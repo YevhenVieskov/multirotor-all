{
 "cells": [
  {
   "cell_type": "markdown",
   "metadata": {},
   "source": [
    "<img src=\"./pictures/logo_sizinglab.png\" style=\"float:right; max-width: 60px; display: inline\" alt=\"SizingLab\" /></a>\n"
   ]
  },
  {
   "cell_type": "markdown",
   "metadata": {},
   "source": [
    "# Scaling laws of electrical components\n",
    "\n",
    "*Written by Marc Budinger, Aitor Ochotorena (INSA Toulouse) and Scott Delbecq (ISAE-SUPAERO), Toulouse, France.*\n",
    "\n",
    "The estimation models calculate the component characteristics requested for their selection without requiring a detailed design. Scaling laws are particularly suitable for this purpose. This notebook illustrates the approach with electrical drone components characteristics.\n",
    "Validation of the obtained scaling laws is achieved thanks to catalog data.  \n",
    "\n",
    "The [following article](https://hal.archives-ouvertes.fr/hal-00712986/file/IMECHE_v1.2_full.pdf) gives more details for components of electromechanical actuators:  \n",
    ">*Budinger, M., Liscouët, J., Hospital, F., & Maré, J. C. (2012). Estimation models for the preliminary design of electromechanical actuators. Proceedings of the Institution of Mechanical Engineers, Part G: Journal of Aerospace Engineering, 226(3), 243-259.*  \n",
    "\n",
    "**Notation**: The x* scaling ratio of a given parameter is calculated as $x^*=\\frac{x}{x_{ref}}$ where $x_{ref}$ is the parameter taken as the reference and $x$ the parameter under study."
   ]
  },
  {
   "cell_type": "markdown",
   "metadata": {},
   "source": [
    "## Brushless motor\n",
    "\n",
    "Multi-rotor drones use out runner brushless motors which are permanent magnet synchronous motors. The [following article](https://hal.archives-ouvertes.fr/hal-00712986/file/IMECHE_v1.2_full.pdf) explains how to set up the scaling laws for this technology of component. \n",
    "\n",
    "![Brushless motor](./pictures/BrushlessMotor.jpg)\n",
    "\n",
    "#### Scaling laws\n",
    "\n",
    "The following table summarize the scaling laws which can be used for the brushless motors.\n",
    "\n",
    "|                | Scaling laws  | References |\n",
    "| -------------- | -------------------| -----------|\n",
    "|  |                      |  AXI 2212/12        |\n",
    "| Nominal torque |    $T_{nom}^*$     | $0.102$ N.m |\n",
    "| Torque constant |$K^*$ | $1.02.10^{-2}$ N.m/A |\n",
    "| Max torque | $T_{max}^*=T_{nom}^*$ | $0.198$ N.m |\n",
    "| Friction torque | $T_{fr}^*=T_{nom}^{*3/3.5}$ | $5.88.10^{-3}$ N.m |\n",
    "| Mass | $M^*=T_{nom}^{*3/3.5}$ | $57$ g |\n",
    "| Resistance | $R^*=K^{*2}T_{nom}^{*-5/3.5}$ | $0.045$ ohm  |\n",
    "| Inertia | $J^*=T_{nom}^{*-5/3.5}$ | $2.5.10^{-5}$ kg.m² |\n"
   ]
  },
  {
   "cell_type": "code",
   "execution_count": 6,
   "metadata": {},
   "outputs": [],
   "source": [
    "# Motor reference data: AXI 2217/20 GOLD LINE\n",
    "T_mot_ref = 0.102 # [N.m] motor nominal torque\n",
    "M_mot_ref = 57e-3 # [kg] motor mass\n",
    "R_mot_ref = 0.045 # [Ohm] motor resistance\n",
    "K_mot_ref = 1.02e-2 # [N.m/A] Torque or fem constant"
   ]
  },
  {
   "cell_type": "markdown",
   "metadata": {},
   "source": [
    ">**Question**: Explain how to find the mass scaling laws. Give the main assumptions and demonstrate the relationship."
   ]
  },
  {
   "cell_type": "markdown",
   "metadata": {},
   "source": [
    "## Validation with a data plot\n",
    "\n",
    "We will compare the scaling law with a plot of the catalog data. \n",
    "\n",
    "#### Import data\n",
    "\n",
    "The first step is to import catalog data stored in an excel file. We use for that functions from [Panda](https://pandas.pydata.org/index.html) package (with here an [introduction to panda](https://jakevdp.github.io/PythonDataScienceHandbook/03.00-introduction-to-pandas.html)). "
   ]
  },
  {
   "cell_type": "code",
   "execution_count": 7,
   "metadata": {},
   "outputs": [
    {
     "data": {
      "text/html": [
       "<div>\n",
       "<style scoped>\n",
       "    .dataframe tbody tr th:only-of-type {\n",
       "        vertical-align: middle;\n",
       "    }\n",
       "\n",
       "    .dataframe tbody tr th {\n",
       "        vertical-align: top;\n",
       "    }\n",
       "\n",
       "    .dataframe thead th {\n",
       "        text-align: right;\n",
       "    }\n",
       "</style>\n",
       "<table border=\"1\" class=\"dataframe\">\n",
       "  <thead>\n",
       "    <tr style=\"text-align: right;\">\n",
       "      <th></th>\n",
       "      <th>TYPE</th>\n",
       "      <th>Model</th>\n",
       "      <th>Kv_rpm_v</th>\n",
       "      <th>Pole (number)</th>\n",
       "      <th>Io (A)</th>\n",
       "      <th>r_omn</th>\n",
       "      <th>weight_g</th>\n",
       "      <th>Imax (A)</th>\n",
       "      <th>No s</th>\n",
       "      <th>Voltage</th>\n",
       "      <th>...</th>\n",
       "      <th>Rend nom</th>\n",
       "      <th>Icc</th>\n",
       "      <th>I opt</th>\n",
       "      <th>Eta opt</th>\n",
       "      <th>Cf_Nm</th>\n",
       "      <th>Tmax_Nm</th>\n",
       "      <th>Estim --&gt;</th>\n",
       "      <th>M*</th>\n",
       "      <th>R*</th>\n",
       "      <th>Cf*</th>\n",
       "    </tr>\n",
       "  </thead>\n",
       "  <tbody>\n",
       "    <tr>\n",
       "      <th>0</th>\n",
       "      <td>AXI</td>\n",
       "      <td>AXI 2203/RACE GOLD LINE</td>\n",
       "      <td>2300</td>\n",
       "      <td>14</td>\n",
       "      <td>0.55</td>\n",
       "      <td>0.220</td>\n",
       "      <td>18.5</td>\n",
       "      <td>9.0</td>\n",
       "      <td>3.0</td>\n",
       "      <td>11.1</td>\n",
       "      <td>...</td>\n",
       "      <td>79.0</td>\n",
       "      <td>50.45</td>\n",
       "      <td>5.27</td>\n",
       "      <td>80.21</td>\n",
       "      <td>0.00228</td>\n",
       "      <td>0.037367</td>\n",
       "      <td>NaN</td>\n",
       "      <td>16.7090</td>\n",
       "      <td>0.2192</td>\n",
       "      <td>0.001665</td>\n",
       "    </tr>\n",
       "    <tr>\n",
       "      <th>1</th>\n",
       "      <td>AXI</td>\n",
       "      <td>AXI 2203/52 GOLD LINE</td>\n",
       "      <td>1525</td>\n",
       "      <td>14</td>\n",
       "      <td>0.40</td>\n",
       "      <td>0.390</td>\n",
       "      <td>18.5</td>\n",
       "      <td>7.0</td>\n",
       "      <td>2.0</td>\n",
       "      <td>7.4</td>\n",
       "      <td>...</td>\n",
       "      <td>66.0</td>\n",
       "      <td>18.97</td>\n",
       "      <td>2.75</td>\n",
       "      <td>73.07</td>\n",
       "      <td>0.00250</td>\n",
       "      <td>0.043833</td>\n",
       "      <td>NaN</td>\n",
       "      <td>19.1586</td>\n",
       "      <td>0.3970</td>\n",
       "      <td>0.001909</td>\n",
       "    </tr>\n",
       "    <tr>\n",
       "      <th>2</th>\n",
       "      <td>AXI</td>\n",
       "      <td>AXI 2203/40VPP GOLD LINE</td>\n",
       "      <td>2000</td>\n",
       "      <td>14</td>\n",
       "      <td>0.50</td>\n",
       "      <td>0.245</td>\n",
       "      <td>17.5</td>\n",
       "      <td>9.0</td>\n",
       "      <td>2.0</td>\n",
       "      <td>7.4</td>\n",
       "      <td>...</td>\n",
       "      <td>70.0</td>\n",
       "      <td>30.20</td>\n",
       "      <td>3.89</td>\n",
       "      <td>75.92</td>\n",
       "      <td>0.00239</td>\n",
       "      <td>0.042972</td>\n",
       "      <td>NaN</td>\n",
       "      <td>18.8355</td>\n",
       "      <td>0.2374</td>\n",
       "      <td>0.001877</td>\n",
       "    </tr>\n",
       "    <tr>\n",
       "      <th>3</th>\n",
       "      <td>AXI</td>\n",
       "      <td>AXI 2203/46 GOLD LINE</td>\n",
       "      <td>1720</td>\n",
       "      <td>14</td>\n",
       "      <td>0.50</td>\n",
       "      <td>0.285</td>\n",
       "      <td>18.5</td>\n",
       "      <td>8.5</td>\n",
       "      <td>2.0</td>\n",
       "      <td>7.4</td>\n",
       "      <td>...</td>\n",
       "      <td>68.0</td>\n",
       "      <td>25.96</td>\n",
       "      <td>3.60</td>\n",
       "      <td>74.17</td>\n",
       "      <td>0.00278</td>\n",
       "      <td>0.047191</td>\n",
       "      <td>NaN</td>\n",
       "      <td>20.4101</td>\n",
       "      <td>0.2808</td>\n",
       "      <td>0.002034</td>\n",
       "    </tr>\n",
       "    <tr>\n",
       "      <th>4</th>\n",
       "      <td>AXI</td>\n",
       "      <td>AXI 2204/54 GOLD LINE</td>\n",
       "      <td>1400</td>\n",
       "      <td>14</td>\n",
       "      <td>0.35</td>\n",
       "      <td>0.320</td>\n",
       "      <td>25.9</td>\n",
       "      <td>7.5</td>\n",
       "      <td>3.0</td>\n",
       "      <td>11.1</td>\n",
       "      <td>...</td>\n",
       "      <td>78.0</td>\n",
       "      <td>34.69</td>\n",
       "      <td>3.48</td>\n",
       "      <td>80.92</td>\n",
       "      <td>0.00239</td>\n",
       "      <td>0.051157</td>\n",
       "      <td>NaN</td>\n",
       "      <td>21.8716</td>\n",
       "      <td>0.3777</td>\n",
       "      <td>0.002179</td>\n",
       "    </tr>\n",
       "  </tbody>\n",
       "</table>\n",
       "<p>5 rows × 24 columns</p>\n",
       "</div>"
      ],
      "text/plain": [
       "  TYPE                     Model  Kv_rpm_v  Pole (number)  Io (A)  r_omn  \\\n",
       "0  AXI   AXI 2203/RACE GOLD LINE      2300             14    0.55  0.220   \n",
       "1  AXI     AXI 2203/52 GOLD LINE      1525             14    0.40  0.390   \n",
       "2  AXI  AXI 2203/40VPP GOLD LINE      2000             14    0.50  0.245   \n",
       "3  AXI     AXI 2203/46 GOLD LINE      1720             14    0.50  0.285   \n",
       "4  AXI     AXI 2204/54 GOLD LINE      1400             14    0.35  0.320   \n",
       "\n",
       "   weight_g  Imax (A)  No s  Voltage  ...  Rend nom    Icc  I opt  Eta opt  \\\n",
       "0      18.5       9.0   3.0     11.1  ...      79.0  50.45   5.27    80.21   \n",
       "1      18.5       7.0   2.0      7.4  ...      66.0  18.97   2.75    73.07   \n",
       "2      17.5       9.0   2.0      7.4  ...      70.0  30.20   3.89    75.92   \n",
       "3      18.5       8.5   2.0      7.4  ...      68.0  25.96   3.60    74.17   \n",
       "4      25.9       7.5   3.0     11.1  ...      78.0  34.69   3.48    80.92   \n",
       "\n",
       "     Cf_Nm   Tmax_Nm  Estim -->       M*      R*       Cf*  \n",
       "0  0.00228  0.037367        NaN  16.7090  0.2192  0.001665  \n",
       "1  0.00250  0.043833        NaN  19.1586  0.3970  0.001909  \n",
       "2  0.00239  0.042972        NaN  18.8355  0.2374  0.001877  \n",
       "3  0.00278  0.047191        NaN  20.4101  0.2808  0.002034  \n",
       "4  0.00239  0.051157        NaN  21.8716  0.3777  0.002179  \n",
       "\n",
       "[5 rows x 24 columns]"
      ]
     },
     "execution_count": 7,
     "metadata": {},
     "output_type": "execute_result"
    }
   ],
   "source": [
    "# Panda package importation\n",
    "import pandas as pd\n",
    "\n",
    "# Read the .csv file with bearing data\n",
    "path='./data/'\n",
    "df = pd.read_csv(path+'Motors_Data.csv', sep=';')\n",
    "# Print the head (first lines of the file)\n",
    "df.head()"
   ]
  },
  {
   "cell_type": "markdown",
   "metadata": {},
   "source": [
    "### Validation of the scaling laws"
   ]
  },
  {
   "cell_type": "markdown",
   "metadata": {},
   "source": [
    "In the next plot, we are going to validate the scaling laws of the motor mass ($M_{mot}^*=T_{mot}^{*3/3.5}$) and motor resistance ($R_{mot}^*=T_{mot}^{*-5/3.5}\\cdot K_T^{*2}$) using the different models of the catalogue data.\n",
    "Since we have different groups, we will use different references for the equations. In the first graph, the estimation model is displayed with the scatter data giving a good a approximation of the mass. \n",
    "\n",
    "For the representation of the motor resistance, we use a XY chart [(info)](https://support.ptc.com/cs/help/thingworx_hc/thingworx_7.0_hc/index.jspx?id=XYChartWidget&action=show) to display the estimation field against the references. If the model is appropriate, data will be concentrated on the equation Y=X.\n",
    "\n",
    "For the plot, we use the [matplotlib](https://matplotlib.org/) package.\n",
    "\n",
    "We define below, the different motor references used to validate the scaling laws:"
   ]
  },
  {
   "cell_type": "code",
   "execution_count": 8,
   "metadata": {},
   "outputs": [],
   "source": [
    "# reference values for each model\n",
    "\n",
    "#AXI 2212/12 GOLD LINE\n",
    "M_mot_ref_AXI=57 #[g]\n",
    "T_mot_ref_AXI=0.102#[Nm]\n",
    "Cf_mot_ref_AXI= 0.00588 #[N.m]\n",
    "R_mot_ref_AXI= 0.045 #[Ohms]\n",
    "K_mot_ref_AXI=0.0049#[N.m/A]\n",
    "\n",
    "\n",
    "#KDE5215XF-330\n",
    "\n",
    "M_mot_ref_KDE=305 #[g]\n",
    "T_mot_ref_KDE=1.794#[Nm]\n",
    "Cf_mot_ref_KDE=0.020256 #[N.m]\n",
    "R_mot_ref_KDE= 0.044 #[Ohms]\n",
    "K_mot_ref_KDE=0.02893#[N.m/A]\n",
    "\n",
    "# Scorpion SII-4035-330KV\n",
    "M_mot_ref_SCO=435 #[g]\n",
    "T_mot_ref_SCO=1.84#[Nm]\n",
    "Cf_mot_ref_SCO=0.04080154 #[N.m]\n",
    "R_mot_ref_SCO=0.031 #[Ohms]\n",
    "K_mot_ref_SCO=0.02893726#[N.m/A]\n",
    "\n",
    "\n",
    "Mass_Motors=[M_mot_ref_AXI,M_mot_ref_KDE,M_mot_ref_SCO]\n",
    "T_Motors=[T_mot_ref_AXI,T_mot_ref_KDE,T_mot_ref_SCO]\n",
    "Cf_motors=[Cf_mot_ref_AXI,Cf_mot_ref_KDE,Cf_mot_ref_SCO]\n",
    "R_motors=[R_mot_ref_AXI,R_mot_ref_KDE,R_mot_ref_SCO]\n",
    "K_motors=[K_mot_ref_AXI,K_mot_ref_KDE,K_mot_ref_SCO]\n",
    "\n",
    "Tvector=[]\n",
    "Mvector=[]\n",
    "Cfvector=[]\n",
    "Kvector=[]\n",
    "Rvector=[]"
   ]
  },
  {
   "cell_type": "markdown",
   "metadata": {},
   "source": [
    "$M_{mot}^*=T_{mot}^{*3/3.5}$"
   ]
  },
  {
   "cell_type": "markdown",
   "metadata": {},
   "source": [
    "We validate the above scaling law using the motor models of *AXI motors*, *KDE Direct* and *SCORPION*."
   ]
  },
  {
   "cell_type": "code",
   "execution_count": 9,
   "metadata": {
    "scrolled": true
   },
   "outputs": [
    {
     "data": {
      "image/png": "[encoded data removed]",
      "text/plain": [
       "<Figure size 432x288 with 1 Axes>"
      ]
     },
     "metadata": {
      "needs_background": "light"
     },
     "output_type": "display_data"
    }
   ],
   "source": [
    "from matplotlib import pyplot as plt\n",
    "import pandas as pd\n",
    "import numpy as np\n",
    "\n",
    "df\n",
    "#validate from the data frame the following models\n",
    "df=df[(df['TYPE'] == 'AXI') | (df['TYPE'] == 'KDEDirect') |(df['TYPE'] == 'SCORPION')]\n",
    "\n",
    "#group the data by model/type\n",
    "\n",
    "groups = df.groupby('TYPE')\n",
    "\n",
    "Tvector=[]\n",
    "\n",
    "color=['lightblue',  'sandybrown','lightgreen']\n",
    "\n",
    "#scatter data using different color for each model\n",
    "for name, group in groups:\n",
    "    T=np.linspace(group.Tnom_Nm.min(),group.Tnom_Nm.max())\n",
    "    Tvector.append(T)\n",
    "    plt.plot(group.Tnom_Nm, group.weight_g, marker='o', linestyle='', ms=5, \n",
    "label=name)\n",
    "\n",
    "i=0\n",
    "#standard deviation from the reference\n",
    "std=[0.1831,0.0854,0.1893]\n",
    "\n",
    "#plot the scaling law with the standard deviation calculated for each model\n",
    "for A,B,C in zip (Mass_Motors, T_Motors,Tvector):\n",
    "    M=A*(C/B)**(3/3.5)\n",
    "    plt.plot(C, M,color=color[i])    \n",
    "    plt.fill_between(C, (1+std[i])*M, (1-std[i])*M, facecolor=color[i], alpha=0.5)\n",
    "    i=i+1\n",
    "\n",
    "#plot the reference point\n",
    "plt.plot(T_Motors,Mass_Motors, '^r',label='Reference points')\n",
    "\n",
    "\n",
    "#Here we plot\n",
    "#Labelling\n",
    "#ax1.loglog()\n",
    "\n",
    "plt.grid(True,which=\"both\",ls=\"-\")# double grid \n",
    "plt.legend(fontsize=14)\n",
    "plt.xlabel(r'$T_{nom}$ [N.m]', fontsize=14)\n",
    "plt.ylabel('Mass [kg]', fontsize=14)\n",
    "\n",
    "plt.tick_params(axis = 'both', labelsize = 14)\n",
    "\n",
    "# plt.savefig('M_T.pdf',dpi=1200,format='pdf')"
   ]
  },
  {
   "cell_type": "markdown",
   "metadata": {},
   "source": [
    "$R_{mot}^*=T_{mot}^{*-5/3.5}\\cdot K_T^{*2}$\n",
    "\n",
    "The use of a XY Chart will illustrate how good the estimation model match the data. If a good correlation is achieved, data will be concentrated on the equation X=Y: "
   ]
  },
  {
   "cell_type": "code",
   "execution_count": 10,
   "metadata": {},
   "outputs": [
    {
     "data": {
      "image/png": "[encoded data removed]",
      "text/plain": [
       "<Figure size 432x288 with 1 Axes>"
      ]
     },
     "metadata": {
      "needs_background": "light"
     },
     "output_type": "display_data"
    }
   ],
   "source": [
    "import pandas as pd\n",
    "from matplotlib import pyplot as plt\n",
    "\n",
    "\n",
    "groups = df.groupby('TYPE')\n",
    "\n",
    "#read pandas data\n",
    "\n",
    "T2=df['Tnom_Nm'].values\n",
    "K2=df['Kt_Nm_A'].values\n",
    "R2=df['r_omn'].values\n",
    "\n",
    "\n",
    "Pro=[]\n",
    "R_Vector=[]\n",
    "RES=[]\n",
    "Name=[]\n",
    "\n",
    "# save scaling laws values in a vector\n",
    "for name, group in groups:\n",
    "    Product=(group.Tnom_Nm)**(-5/3.5)*group.Kt_Nm_A**2\n",
    "    Pro.append(Product)\n",
    "    Name.append(name)\n",
    "\n",
    "\n",
    "for A,B,C,D in zip (R_motors, T_Motors,K_motors,Pro):\n",
    "    R=D*A/(B**(-5/3.5))/(C**2)\n",
    "    R_Vector.append(R)\n",
    "\n",
    "for name, group in groups:\n",
    "    RES.append(group.r_omn)\n",
    "\n",
    "i=0\n",
    "\n",
    "for i in range(len(RES)):\n",
    "        plt.plot(RES[i], R_Vector[i], marker='o', linestyle='', ms=5, \n",
    "    label=Name[i]) #plot the data by group\n",
    "        plt.plot(RES[i], RES[i], '-k',label='_nolegend')#plot X=Y\n",
    "\n",
    "plt.plot(R_motors,R_motors,'^r',label='Reference points',ms=5)#plot reference\n",
    "\n",
    "        \n",
    "plt.grid(True,which=\"both\",ls=\"-\")\n",
    "\n",
    "#plt.loglog()\n",
    "plt.legend(fontsize=14)\n",
    "plt.xlabel('R Data [Ohms]', fontsize=14)\n",
    "plt.ylabel('R Scaling Laws [Ohms]', fontsize=14)\n",
    "plt.tick_params(axis = 'both', labelsize = 14)\n",
    "#plt.savefig('RDataRSL.pdf',dpi=1200,format='pdf')\n",
    "#mp.savefig('RDataRSL.pdf',dpi=1200,format='pdf')"
   ]
  },
  {
   "cell_type": "markdown",
   "metadata": {},
   "source": [
    "## Filtering techniques"
   ]
  },
  {
   "cell_type": "markdown",
   "metadata": {},
   "source": [
    "### Pareto frontier"
   ]
  },
  {
   "cell_type": "markdown",
   "metadata": {},
   "source": [
    "The [Pareto frontier](https://fr.wikipedia.org/wiki/Optimum_de_Pareto) permits to highlight the most important points among a set of factors. Based on design criteria, we select such set of outputs which resources are most optimally used. In the next point, we define a function called **dominated** which returns a '0' if the point satisfy the optimal conditions required and an other number, on the contrary case."
   ]
  },
  {
   "cell_type": "code",
   "execution_count": 11,
   "metadata": {},
   "outputs": [],
   "source": [
    "# This function tests if a component is dominated\n",
    "# return 0 if non dominated, the number of domination other else\n",
    "# inputs :\n",
    "# x_,y_ : the  component's characteristics to test\n",
    "# X_,Y_ : the  data set characteristics\n",
    "\n",
    "def dominated(x_,y_,X_,Y_):\n",
    "    compteur=0\n",
    "    for a,b in zip(X_,Y_):\n",
    "        # a>x_ for high torque and  b<y_ for small weight\n",
    "        if (a>x_) and (b<y_):\n",
    "            compteur +=1\n",
    "    return compteur"
   ]
  },
  {
   "cell_type": "markdown",
   "metadata": {},
   "source": [
    "For the motors, a **high torque per weight** is desired. \n",
    "In the next part, we will highlight in red such points which dominate the rest. In other words, we find a set of data with the optimal characteristics concerning torque and weight. "
   ]
  },
  {
   "cell_type": "code",
   "execution_count": 14,
   "metadata": {},
   "outputs": [
    {
     "data": {
      "image/png": "[encoded data removed]",
      "text/plain": [
       "<Figure size 432x288 with 1 Axes>"
      ]
     },
     "metadata": {
      "needs_background": "light"
     },
     "output_type": "display_data"
    }
   ],
   "source": [
    "import matplotlib.pyplot as plt\n",
    "import pandas as pd\n",
    "\n",
    "df_mot=df\n",
    "df_mot['Dominated']=0\n",
    "# df_mot = df_mot.reset_index(drop=True)\n",
    "\n",
    "for row in range(len(df_mot['Tnom_Nm'])):\n",
    "    if dominated(df_mot.loc[row,'Tnom_Nm'], df_mot.loc[row,'weight_g'],df_mot['Tnom_Nm'].values,df_mot['weight_g'].values)>0:\n",
    "        df_mot.loc[row,'Dominated']=1    \n",
    "\n",
    "df_mot[df_mot['Dominated']==0].to_csv(r'./data/Non-Dominated-Motors.csv',sep=';')#We save the non-dominated series to process after.\n",
    "\n",
    "color_wheel = {0: 'r', \n",
    "               1: 'b'} #we color in red the non-dominated series\n",
    "\n",
    "colors = df_mot['Dominated'].map(lambda x: color_wheel.get(x))\n",
    "plt.scatter(df['Tnom_Nm'], df['weight_g'], c=colors, s=5, linewidth=5,label='References')\n",
    "\n",
    "plt.ylabel('Mass [g]')\n",
    "plt.xlabel('Nominal torque [N.m]')\n",
    "plt.legend()\n",
    "plt.grid()\n",
    "plt.show()"
   ]
  },
  {
   "cell_type": "markdown",
   "metadata": {},
   "source": [
    "These dominated points can be visualized in a scatter matrix to see their effects in other variables."
   ]
  },
  {
   "cell_type": "code",
   "execution_count": null,
   "metadata": {},
   "outputs": [],
   "source": [
    "pd.plotting.scatter_matrix(df_mot[['Tnom_Nm','weight_g','Kt_Nm_A']], color=colors, figsize=[15,10], s=200);\n",
    "plt.tick_params(axis = 'both', labelsize = 14)\n",
    "plt.rcParams.update({'font.size': 14})"
   ]
  },
  {
   "cell_type": "markdown",
   "metadata": {},
   "source": [
    "In <span style=\"color:red\">red</span> the dominating points for the criteria of **highest torque and lowest weight**. In <span style=\"color:blue\">blue</span>, the rest of points."
   ]
  },
  {
   "cell_type": "markdown",
   "metadata": {},
   "source": [
    "### Filter data based on a selection model"
   ]
  },
  {
   "cell_type": "markdown",
   "metadata": {},
   "source": [
    "In some cases, it is much more practical to select such values which better fit to the estimation model.\n",
    "In this visualization, data are sorted depending on their value if greater or lower than the estimation model."
   ]
  },
  {
   "cell_type": "code",
   "execution_count": null,
   "metadata": {
    "scrolled": false
   },
   "outputs": [],
   "source": [
    "import numpy as np\n",
    "\n",
    "df=df_mot\n",
    "Mmot_ref=575 #[g] motor mass reference\n",
    "Tmot_ref=2.32 #[g] motor torque reference\n",
    "\n",
    "#Scaling law\n",
    "\n",
    "df['M*']=Mmot_ref*(df['Tnom_Nm']/Tmot_ref)**(3/3.5) # [kg] Motor mass\n",
    "\n",
    "#separate values greater or lower than equation\n",
    "for row in range(len(df_mot['Tnom_Nm'])):\n",
    "    if (df.loc[row,'weight_g']-df.loc[row,'M*'])<0:\n",
    "        df.loc[row,'Lower values']=1\n",
    "    else: df.loc[row,'Lower values']=0\n",
    "        \n",
    "color_wheel = {0: 'r', \n",
    "               1: 'k'} #we color in red the upper series\n",
    "\n",
    "colors = df['Lower values'].map(lambda x: color_wheel.get(x))\n",
    "\n",
    "\n",
    "plt.scatter(df['Tnom_Nm'], df['weight_g'], c=colors, s=5, linewidth=5,label='References')\n",
    "plt.plot(df['Tnom_Nm'],df['M*'], '.', label='Scaling law')\n",
    "\n",
    "# df[df['Lower values']==1].to_csv(r'./Data/Lower-Values-Motors.csv',sep=';')#We save the lower values.\n",
    "# df[df['Lower values']==0].to_csv(r'./Data/Greater-Values-Motors.csv',sep=';')#We save the greater values.\n",
    "\n",
    "plt.ylabel('Mass [g]')\n",
    "plt.xlabel('Nominal torque [N.m]')\n",
    "plt.legend()\n",
    "plt.grid()\n",
    "plt.show()"
   ]
  },
  {
   "cell_type": "markdown",
   "metadata": {},
   "source": [
    "In <span style=\"color:red\">red</span> we see the data over the scaling law. In **black**, the values under it."
   ]
  },
  {
   "cell_type": "markdown",
   "metadata": {},
   "source": [
    "### Get values closer to the estimation model\n",
    "Two functions are created to select the closest values to the estimation model from below and from above the equation:\n",
    "\n",
    "**dominated_below** selects those values below the estimation model, which are closest to the estimation model."
   ]
  },
  {
   "cell_type": "code",
   "execution_count": null,
   "metadata": {},
   "outputs": [],
   "source": [
    "def dominated_below(x_,y_,X_,Y_,Y_SL):\n",
    "    compteur=0\n",
    "    for a,b,c in zip(X_,Y_,Y_SL):\n",
    "        #for values greater than SL and high first var and small second var\n",
    "        if (b-c) <0 and (a<x_) and (b>y_):\n",
    "            compteur +=1\n",
    "    return compteur"
   ]
  },
  {
   "cell_type": "markdown",
   "metadata": {},
   "source": [
    "**dominated_above** selects those values above the estimation model, which are closest to the estimation model."
   ]
  },
  {
   "cell_type": "code",
   "execution_count": null,
   "metadata": {},
   "outputs": [],
   "source": [
    "def dominated_above(x_,y_,X_,Y_,Y_SL):\n",
    "    compteur=0\n",
    "    for a,b,c in zip(X_,Y_,Y_SL):\n",
    "        #for values greater than SL and high first var and small second var\n",
    "        if (b-c) >0 and (a>x_) and (b<y_):\n",
    "            compteur +=1\n",
    "    return compteur"
   ]
  },
  {
   "cell_type": "markdown",
   "metadata": {},
   "source": [
    "For each value, we plot in red those which are closest to the estimation model and in black the rest of points."
   ]
  },
  {
   "cell_type": "code",
   "execution_count": null,
   "metadata": {
    "scrolled": false
   },
   "outputs": [],
   "source": [
    "df=df_mot\n",
    "\n",
    "#Scaling law\n",
    "\n",
    "df['M*']=Mmot_ref*(df['Tnom_Nm']/Tmot_ref)**(3/3.5) # [kg] Motor mass\n",
    "\n",
    "#Select closest values to the scaling law\n",
    "for row in range(len(df_mot['Tnom_Nm'])):\n",
    "    if dominated_below(df.loc[row,'Tnom_Nm'], df.loc[row,'weight_g'],df['Tnom_Nm'].values,df['weight_g'].values,df['M*'].values)>0:\n",
    "        df.loc[row,'Dominant closest values']=1  \n",
    "    elif dominated_above(df.loc[row,'Tnom_Nm'], df.loc[row,'weight_g'],df['Tnom_Nm'].values,df['weight_g'].values,df['M*'].values)>0:\n",
    "        df.loc[row,'Dominant closest values']=1         \n",
    "    else: df.loc[row,'Dominant closest values']=0\n",
    "\n",
    "color_wheel = {0: 'r', \n",
    "               1: 'k'} #we color in red the non-dominated series\n",
    "\n",
    "colors = df['Dominant closest values'].map(lambda x: color_wheel.get(x))\n",
    "\n",
    "# df[df['Dominant closest values']==0].to_csv(r'./Data/Closest-Values-Motors.csv',sep=';')#We save the closest values.\n",
    "\n",
    "plt.scatter(df['Tnom_Nm'], df['weight_g'], c=colors, s=5, linewidth=5,label='References')\n",
    "plt.plot( df['Tnom_Nm'],df['M*'], '.', label='Scaling law')\n",
    "\n",
    "\n",
    "plt.ylabel('Mass [g]')\n",
    "plt.xlabel('Nominal torque [N.m]')\n",
    "plt.legend()\n",
    "plt.grid()\n",
    "plt.show()"
   ]
  },
  {
   "cell_type": "markdown",
   "metadata": {},
   "source": [
    "In <span style=\"color:red\">red</span> we see the closest values to the scaling law. In **black**, the external values."
   ]
  },
  {
   "cell_type": "markdown",
   "metadata": {},
   "source": [
    "### Get the closest lower/upper values to the estimation model\n",
    "Now, we can be interested in selecting the closest upper /lower values from the selection model"
   ]
  },
  {
   "cell_type": "code",
   "execution_count": null,
   "metadata": {},
   "outputs": [],
   "source": [
    "df=df_mot\n",
    "\n",
    "df['M*']=Mmot_ref*(df['Tnom_Nm']/Tmot_ref)**(3/3.5) # [kg] Motor mass\n",
    "\n",
    "for row in range(len(df_mot['Tnom_Nm'])):\n",
    "    if (df.loc[row,'weight_g']-df.loc[row,'M*'])>0:\n",
    "        if dominated_above(df.loc[row,'Tnom_Nm'], df.loc[row,'weight_g'],df['Tnom_Nm'].values,df['weight_g'].values,df['M*'].values)>0:\n",
    "            df.loc[row,'Dominant closest values']=0        \n",
    "        else: df.loc[row,'Dominant closest values']=+1         \n",
    "    else:\n",
    "        if dominated_below(df.loc[row,'Tnom_Nm'], df.loc[row,'weight_g'],df['Tnom_Nm'].values,df['weight_g'].values,df['M*'].values)>0:\n",
    "            df.loc[row,'Dominant closest values']=0        \n",
    "        else: df.loc[row,'Dominant closest values']=-1         \n",
    "        \n",
    "        \n",
    "color_wheel = {-1: 'r',\n",
    "               0: 'k',\n",
    "               1: 'g'} #we color in red the non-dominated series\n",
    "\n",
    "colors = df['Dominant closest values'].map(lambda x: color_wheel.get(x))\n",
    "\n",
    "# df[df['Dominant closest values']==-1].to_csv(r'./Data/Closest-Upper-Values-Motors.csv',sep=';')#We save the closest values.\n",
    "# df[df['Dominant closest values']==1].to_csv(r'./Data/Closest-Lower-Values-Motors.csv',sep=';')#We save the closest values.\n",
    "\n",
    "plt.scatter(df['Tnom_Nm'], df['weight_g'], c=colors, s=5, linewidth=5,label='References')\n",
    "plt.plot( df['Tnom_Nm'],df['M*'], '.', label='Scaling law')\n",
    "\n",
    "\n",
    "plt.ylabel('Mass [g]')\n",
    "plt.xlabel('Nominal torque [N.m]')\n",
    "plt.legend()\n",
    "plt.grid()\n",
    "plt.show()"
   ]
  },
  {
   "cell_type": "markdown",
   "metadata": {},
   "source": [
    "In <span style=\"color:green\">green</span> we see the closest values over the scaling law. In <span style=\"color:red\">red</span>, the closest one under it and in **black**, we have the external points."
   ]
  },
  {
   "cell_type": "code",
   "execution_count": null,
   "metadata": {},
   "outputs": [],
   "source": []
  }
 ],
 "metadata": {
  "kernelspec": {
   "display_name": "Python 3",
   "language": "python",
   "name": "python3"
  },
  "language_info": {
   "codemirror_mode": {
    "name": "ipython",
    "version": 3
   },
   "file_extension": ".py",
   "mimetype": "text/x-python",
   "name": "python",
   "nbconvert_exporter": "python",
   "pygments_lexer": "ipython3",
   "version": "3.7.5"
  }
 },
 "nbformat": 4,
 "nbformat_minor": 2
}
