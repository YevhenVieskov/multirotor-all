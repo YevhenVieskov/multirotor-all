{
 "cells": [
  {
   "cell_type": "markdown",
   "metadata": {},
   "source": [
    "# Multirotor validator eCalc"
   ]
  },
  {
   "cell_type": "code",
   "execution_count": 77,
   "metadata": {
    "scrolled": false
   },
   "outputs": [
    {
     "data": {
      "application/vnd.jupyter.widget-view+json": {
       "model_id": "5b40aa30b9764ad9882566af24473000",
       "version_major": 2,
       "version_minor": 0
      },
      "text/plain": [
       "HTML(value=\"<b><font color='red'>Motor parameters</b>\")"
      ]
     },
     "metadata": {},
     "output_type": "display_data"
    },
    {
     "data": {
      "application/vnd.jupyter.widget-view+json": {
       "model_id": "64ca22496c214f2a9f90dc6cf5848984",
       "version_major": 2,
       "version_minor": 0
      },
      "text/plain": [
       "HBox(children=(Dropdown(description='Motor model:', options=('AXI 2203/RACE GOLD LINE', 'AXI 2203/52 GOLD LINE…"
      ]
     },
     "metadata": {},
     "output_type": "display_data"
    },
    {
     "data": {
      "application/vnd.jupyter.widget-view+json": {
       "model_id": "f2e40e636bcf4c9da04b355cc425f5eb",
       "version_major": 2,
       "version_minor": 0
      },
      "text/plain": [
       "HTML(value=\"<b><font color='red'>Propeller parameters</b>\")"
      ]
     },
     "metadata": {},
     "output_type": "display_data"
    },
    {
     "data": {
      "application/vnd.jupyter.widget-view+json": {
       "model_id": "a5c9fdf4758f482fbb2368132c6552d1",
       "version_major": 2,
       "version_minor": 0
      },
      "text/plain": [
       "HBox(children=(Dropdown(description='Propeller diameter:', options=(8, 9, 10, 11, 12, 13, 14, 15, 16, 18), val…"
      ]
     },
     "metadata": {},
     "output_type": "display_data"
    },
    {
     "data": {
      "application/vnd.jupyter.widget-view+json": {
       "model_id": "7964f32107974dc4aa91cdd4c94dc464",
       "version_major": 2,
       "version_minor": 0
      },
      "text/plain": [
       "HTML(value=\"<b><font color='red'>Battery parameters</b>\")"
      ]
     },
     "metadata": {},
     "output_type": "display_data"
    },
    {
     "data": {
      "application/vnd.jupyter.widget-view+json": {
       "model_id": "bea2a415033e4544bfaf4f275bc00576",
       "version_major": 2,
       "version_minor": 0
      },
      "text/plain": [
       "HBox(children=(Dropdown(description='Capacity (mAh):', options=(325, 450, 500, 750, 870, 910, 1050, 1300, 1350…"
      ]
     },
     "metadata": {},
     "output_type": "display_data"
    },
    {
     "data": {
      "application/vnd.jupyter.widget-view+json": {
       "model_id": "01d7c8200ca04be490b0ece21652efc5",
       "version_major": 2,
       "version_minor": 0
      },
      "text/plain": [
       "HTML(value=\"<b><font color='red'>ESC parameters</b>\")"
      ]
     },
     "metadata": {},
     "output_type": "display_data"
    },
    {
     "data": {
      "application/vnd.jupyter.widget-view+json": {
       "model_id": "1ebadf3cc74847a582d48aaa23d48d24",
       "version_major": 2,
       "version_minor": 0
      },
      "text/plain": [
       "HBox(children=(Dropdown(description='Power ESC:', options=(52, 89, 133, 163, 266, 326, 444, 611, 888, 977, 999…"
      ]
     },
     "metadata": {},
     "output_type": "display_data"
    },
    {
     "data": {
      "application/vnd.jupyter.widget-view+json": {
       "model_id": "2841c26410c149658c64e5c365639010",
       "version_major": 2,
       "version_minor": 0
      },
      "text/plain": [
       "HTML(value=\"<b><font color='red'>Architecture</b>\")"
      ]
     },
     "metadata": {},
     "output_type": "display_data"
    },
    {
     "data": {
      "application/vnd.jupyter.widget-view+json": {
       "model_id": "6a04f3cece144ae3bef75fb9ce2623c0",
       "version_major": 2,
       "version_minor": 0
      },
      "text/plain": [
       "HBox(children=(FloatSlider(value=8.0, description='Number of arms [-]', layout=Layout(width='500pt'), max=12.0…"
      ]
     },
     "metadata": {},
     "output_type": "display_data"
    },
    {
     "data": {
      "application/vnd.jupyter.widget-view+json": {
       "model_id": "4d9321ceb5f649b4b7989607c27baae7",
       "version_major": 2,
       "version_minor": 0
      },
      "text/plain": [
       "HBox(children=(ToggleButtons(description='Number of propellers per arm:', options=('Single rotor setup', 'Coax…"
      ]
     },
     "metadata": {},
     "output_type": "display_data"
    },
    {
     "data": {
      "application/vnd.jupyter.widget-view+json": {
       "model_id": "edae54dada9c4acfbbd560b95389ad59",
       "version_major": 2,
       "version_minor": 0
      },
      "text/plain": [
       "HTML(value=\"<b><font color='red'>Performance</b>\")"
      ]
     },
     "metadata": {},
     "output_type": "display_data"
    },
    {
     "data": {
      "application/vnd.jupyter.widget-view+json": {
       "model_id": "bc2e08a17325469cbb4b844f077af00e",
       "version_major": 2,
       "version_minor": 0
      },
      "text/plain": [
       "HBox(children=(FloatSlider(value=3.0, description='Ratio max thrust-hover [-]', layout=Layout(width='500pt'), …"
      ]
     },
     "metadata": {},
     "output_type": "display_data"
    },
    {
     "data": {
      "application/vnd.jupyter.widget-view+json": {
       "model_id": "1c12a3afcaa042e29a96f8d5f4ef3195",
       "version_major": 2,
       "version_minor": 0
      },
      "text/plain": [
       "HBox(children=(FloatSlider(value=8.0, description='Rate of climb [m/s]', layout=Layout(width='500pt'), max=10.…"
      ]
     },
     "metadata": {},
     "output_type": "display_data"
    },
    {
     "data": {
      "application/vnd.jupyter.widget-view+json": {
       "model_id": "2f392bc161be41829481ed638c035878",
       "version_major": 2,
       "version_minor": 0
      },
      "text/plain": [
       "HBox(children=(FloatSlider(value=1.0, description='Geat ratio', layout=Layout(width='500pt'), max=3.0, min=1.0…"
      ]
     },
     "metadata": {},
     "output_type": "display_data"
    },
    {
     "data": {
      "application/vnd.jupyter.widget-view+json": {
       "model_id": "aff214601dd349c292aeb6f35c2c3cbe",
       "version_major": 2,
       "version_minor": 0
      },
      "text/plain": [
       "HBox(children=(FloatSlider(value=4.0, description='Load mass [kg]:', layout=Layout(width='500pt'), min=1.0, re…"
      ]
     },
     "metadata": {},
     "output_type": "display_data"
    }
   ],
   "source": [
    "import ipywidgets as widgets\n",
    "from ipywidgets import interact, Dropdown, HBox\n",
    "\n",
    "import pandas as pd\n",
    "\n",
    "path='./Motors/'\n",
    "df_mot = pd.read_csv(path+'Motors_Data.csv', sep=';')\n",
    "\n",
    "path='./Propeller/'\n",
    "df_pro = pd.read_csv(path+'Propeller_Data.csv', sep=';')\n",
    "\n",
    "path='./Batteries/'\n",
    "df_bat = pd.read_csv(path+'Batteries_Data.csv', sep=';')\n",
    "\n",
    "path='./ESC/'\n",
    "df_esc = pd.read_csv(path+'ESC_data.csv', sep=';')\n",
    "\n",
    "style = {'description_width': '150pt'}\n",
    "layout = {'width': '500pt'}\n",
    "label_layout = widgets.Layout(width='50px')\n",
    "\n",
    "Motmodel =widgets.HTML(value = f\"<b><font color='red'>{'Motor parameters'}</b>\")\n",
    "\n",
    "Mot= Dropdown(\n",
    "    options= df_mot['Model'].values,\n",
    "    description='Motor model:',\n",
    "    disabled=False,\n",
    ")\n",
    "df_motfilter=df_mot[df_mot['Model']== Mot.value] #filter data containing such values\n",
    "\n",
    "Kt= Dropdown(\n",
    "    options=df_motfilter['Kt_Nm_A'].values,\n",
    "    description='K_T:(Nm/A)',\n",
    "    disabled=True,\n",
    ")\n",
    "\n",
    "Tmot= Dropdown(\n",
    "    options=df_motfilter['Tnom_Nm'].values,\n",
    "    description='Nominal torque(N.m)',\n",
    "    disabled=True,\n",
    ")\n",
    "\n",
    "Propmodel =widgets.HTML(value = f\"<b><font color='red'>{'Propeller parameters'}</b>\")\n",
    "\n",
    "Dia= Dropdown(\n",
    "    options= sorted(df_pro['DIAMETER'].unique().tolist()),\n",
    "    description='Propeller diameter:',\n",
    "    disabled=False,\n",
    ")\n",
    "\n",
    "df_profilter=df_pro[df_pro['DIAMETER']== Dia.value] #filter data containing such values\n",
    "\n",
    "Pitch= Dropdown(\n",
    "    options= sorted(df_profilter['BETA'].unique().tolist()),\n",
    "    description='Pitch/diameter:',\n",
    "    disabled=False,)\n",
    "\n",
    "\n",
    "Batmodel =widgets.HTML(value = f\"<b><font color='red'>{'Battery parameters'}</b>\")\n",
    "                       \n",
    "Cbat= Dropdown(\n",
    "    options= sorted(df_bat['Capacity_mAh'].unique().tolist()),\n",
    "    description='Capacity (mAh):',\n",
    "    disabled=False,)\n",
    "\n",
    "df_batfilter=df_bat[df_bat['Capacity_mAh']== Cbat.value] #filter data containing such values\n",
    "\n",
    "Ubat= Dropdown(\n",
    "    options= sorted(df_batfilter['Voltage_V'].unique().tolist()),\n",
    "    description='Voltage (V):',\n",
    "    disabled=False,)\n",
    "\n",
    "df_batfilter_model=df_bat[(df_bat['Capacity_mAh']==Cbat.value) & (df_bat['Voltage_V']==Ubat.value)] #filter data containing such values\n",
    "\n",
    "Modelbat= Dropdown(\n",
    "    options=sorted(df_batfilter_model['Model'].unique().tolist()),\n",
    "    description='Model battery',\n",
    "    disabled=False,\n",
    ")\n",
    "\n",
    "ESCmodel =widgets.HTML(value = f\"<b><font color='red'>{'ESC parameters'}</b>\")\n",
    "\n",
    "Pesc= Dropdown(\n",
    "    options= sorted(df_esc['Pmax.in[W]'].unique().tolist()),\n",
    "    description='Power ESC:',\n",
    "    disabled=False,)\n",
    "\n",
    "df_escfilter=df_esc[df_esc['Pmax.in[W]']== Pesc.value] #filter data containing such values\n",
    "\n",
    "Vesc= Dropdown(\n",
    "    options= sorted(df_escfilter['Vmax.in[V]'].unique().tolist()),\n",
    "    description='Voltage ESC (V):',\n",
    "    disabled=False,)\n",
    "\n",
    "df_escfilter_model=df_esc[(df_esc['Pmax.in[W]']==Pesc.value) & (df_esc['Vmax.in[V]']==Vesc.value)] #filter data containing such values\n",
    "\n",
    "Modelesc= Dropdown(\n",
    "    options=sorted(df_escfilter_model['Model'].unique().tolist()),\n",
    "    description='Model ESC',\n",
    "    disabled=False,\n",
    ")\n",
    "                                             \n",
    "\n",
    "archit = widgets.HTML(value = f\"<b><font color='red'>{'Architecture'}</b>\")\n",
    "\n",
    "Narm_slider = widgets.FloatSlider(\n",
    "    value=8,\n",
    "    min=3,\n",
    "    max=12,\n",
    "    step=1,\n",
    "    description='Number of arms [-]',\n",
    "    readout_format='.0f',style=style, layout=layout\n",
    ")\n",
    "\n",
    "Narm_tex = widgets.FloatText(description=\"\", continuous_update=False, layout=label_layout)\n",
    "\n",
    "widgets.link((Narm_slider, 'value'), (Narm_tex, 'value'))\n",
    "\n",
    "Narm=widgets.HBox([Narm_slider,Narm_tex])                     \n",
    "\n",
    "Np_arm=widgets.ToggleButtons(options=['Single rotor setup', 'Coaxial setup'],\n",
    "    description='Number of propellers per arm:',\n",
    "    disabled=False,style=style)\n",
    "\n",
    "Mod=widgets.ToggleButtons(options=['Direct Drive', 'Gear Drive'],\n",
    "    description='Motor configuration:',\n",
    "    tooltips=['No speed reductor', 'Motor with reduction'],style=style)\n",
    "\n",
    "arc=widgets.HBox([Np_arm,Mod]) \n",
    "                      \n",
    "perf = widgets.HTML(value = f\"<b><font color='red'>{'Performance'}</b>\")\n",
    "\n",
    "k_maxthrust_slider = widgets.FloatSlider(\n",
    "    value=3,\n",
    "    min=1.1,\n",
    "    max=4,\n",
    "    step=.1,\n",
    "    description='Ratio max thrust-hover [-]',\n",
    "    readout_format='.1f', style=style, layout=layout\n",
    ")\n",
    "\n",
    "k_maxthrust_tex = widgets.FloatText(description=\"\", continuous_update=False,layout=label_layout)\n",
    "\n",
    "widgets.link((k_maxthrust_slider, 'value'), (k_maxthrust_tex, 'value'))\n",
    "\n",
    "k_maxthrust=widgets.HBox([k_maxthrust_slider,k_maxthrust_tex])                     \n",
    "\n",
    "V_cl_slider = widgets.FloatSlider(\n",
    "    value=8,\n",
    "    min=1,\n",
    "    max=10,\n",
    "    step=1,\n",
    "    description='Rate of climb [m/s]',\n",
    "    readout_format='.0f', style=style, layout=layout\n",
    ")\n",
    "\n",
    "V_cl_tex = widgets.FloatText(description=\"\", continuous_update=False,layout=label_layout)\n",
    "\n",
    "widgets.link((V_cl_slider, 'value'), (V_cl_tex, 'value'))\n",
    "\n",
    "V_cl = widgets.HBox([V_cl_slider,V_cl_tex])                     \n",
    "\n",
    "Nred_slider = widgets.FloatSlider(\n",
    "    value=1,\n",
    "    min=1,\n",
    "    max=3,\n",
    "    step=1,\n",
    "    description='Geat ratio',\n",
    "    readout_format='.2f', style=style, layout=layout\n",
    ")\n",
    "\n",
    "Nred_tex = widgets.FloatText(description=\"\", continuous_update=False,layout=label_layout)\n",
    "\n",
    "widgets.link((Nred_slider, 'value'), (Nred_tex, 'value'))\n",
    "\n",
    "Nred = widgets.HBox([Nred_slider,Nred_tex])  \n",
    "\n",
    "Ncel_slider = widgets.FloatSlider(\n",
    "    value=1,\n",
    "    min=1,\n",
    "    max=30,\n",
    "    step=1,\n",
    "    description='Cell numbers',\n",
    "    readout_format='.0f'\n",
    ")\n",
    "\n",
    "Ncel_tex = widgets.FloatText(description=\"\", continuous_update=False)\n",
    "\n",
    "widgets.link((Ncel_slider, 'value'), (Ncel_tex, 'value'))\n",
    "\n",
    "Ncel = widgets.HBox([Ncel_slider,Ncel_tex])  \n",
    "\n",
    "M_pay = widgets.FloatSlider(\n",
    "    value=4.,\n",
    "    min=1,\n",
    "    max=100.0,\n",
    "    step=.1,\n",
    "    description='Load mass [kg]:',\n",
    "    readout_format='.1f', style=style, layout=layout\n",
    ")\n",
    "\n",
    "M_load_tex = widgets.FloatText(description=\"\", continuous_update=False,layout=label_layout)\n",
    "\n",
    "widgets.link((M_pay, 'value'), (M_load_tex, 'value'))\n",
    "\n",
    "M_load=widgets.HBox([M_pay,M_load_tex])                     \n",
    "\n",
    "display(Motmodel,HBox([Mot,Kt,Tmot]), Propmodel,HBox([Dia,Pitch]), Batmodel, HBox([Cbat,Ubat, Modelbat]),\n",
    "        ESCmodel, HBox([Pesc,Vesc, Modelesc]),archit, Narm,arc, perf, k_maxthrust,V_cl,Nred,M_load)\n",
    "def change_event(x):\n",
    "    clear_output()    \n",
    "    df_motfilter=df_mot[df_mot['Model']== Mot.value] #filter data containing such values\n",
    "    df_profilter=df_pro[df_pro['DIAMETER']== Dia.value] #filter data containing such values\n",
    "    df_batfilter=df_bat[df_bat['Capacity_mAh']== Cbat.value] #filter data containing such values\n",
    "    df_batfilter_model=df_bat[(df_bat['Capacity_mAh']==Cbat.value) & (df_bat['Voltage_V']==Ubat.value)] #filter data containing such values                   \n",
    "    df_escfilter= df_esc[df_esc['Pmax.in[W]']== Pesc.value] #filter data containing such values\n",
    "    df_escfilter_model=df_esc[(df_esc['Pmax.in[W]']==Pesc.value) & (df_esc['Vmax.in[V]']==Vesc.value)] #filter data containing such values                   \n",
    "    Kt.options = df_motfilter['Kt_Nm_A'].values\n",
    "    Tmot.options = df_motfilter['Tnom_Nm'].values\n",
    "    Ubat.options= sorted(df_batfilter['Voltage_V'].unique().tolist())              \n",
    "    Modelbat.options=sorted(df_batfilter_model['Model'].unique().tolist())\n",
    "    Vesc.options= sorted(df_escfilter['Vmax.in[V]'].unique().tolist())\n",
    "    Modelesc.options= sorted(df_escfilter_model['Model'].unique().tolist())\n",
    "    Pitch.options = sorted(df_profilter['BETA'].unique().tolist())\n",
    "    display(Motmodel,HBox([Mot,Kt,Tmot]), Propmodel,HBox([Dia,Pitch]), Batmodel, HBox([Cbat,Ubat, Modelbat]),\n",
    "        ESCmodel, HBox([Pesc,Vesc, Modelesc]),archit, Narm,arc, perf, k_maxthrust,V_cl,Nred,M_load)\n",
    "        \n",
    "\n",
    "    \n",
    "Dia.observe(change_event)\n",
    "Mot.observe(change_event)\n",
    "Cbat.observe(change_event)                       \n",
    "Ubat.observe(change_event) \n",
    "Vesc.observe(change_event) \n",
    "Pesc.observe(change_event)                    "
   ]
  },
  {
   "cell_type": "code",
   "execution_count": 75,
   "metadata": {},
   "outputs": [],
   "source": [
    "\n",
    "# Calculation\n",
    "# Data values:\n",
    "\n",
    "Ktmot_DC=Kt.value\n",
    "Tmot_DC=Tmot.value\n",
    "Dpro_DC=Dia.value\n",
    "beta_DC=Pitch.value\n",
    "Cbat_DC=Cbat.value\n",
    "Ubat_DC=Ubat.value\n",
    "Pesc_DC=Pesc.value\n",
    "Vesc_DC=Vesc.value\n",
    "Narm_DC=Narm_slider.value\n",
    "Nparm_DC=Np_arm.value\n",
    "Mod_DC=Mod.value\n"
   ]
  },
  {
   "cell_type": "code",
   "execution_count": 76,
   "metadata": {},
   "outputs": [
    {
     "data": {
      "text/plain": [
       "'Single rotor setup'"
      ]
     },
     "execution_count": 76,
     "metadata": {},
     "output_type": "execute_result"
    }
   ],
   "source": [
    "Nparm_DC"
   ]
  },
  {
   "cell_type": "code",
   "execution_count": null,
   "metadata": {},
   "outputs": [],
   "source": [
    "\n",
    "\n",
    "# Propeller selection with take-off scenario\n",
    "    pitch=beta_DC*Dpro_DC # [m] Propeller pitch\n",
    "    n_pro_to=(NDmax)/Dpro_DC # [Hz] Propeller speed\n",
    "    \n",
    "    # Propeller characteristicss\n",
    "    # Ref : APC static\n",
    "\n",
    "    C_t_sta=4.27e-02 + 1.44e-01 * beta_DC # Thrust coef with T=C_T.rho.n^2.D^4\n",
    "    C_p_sta=-1.48e-03 + 9.72e-02 * beta_DC  # Power coef with P=C_p.rho.n^3.D^5\n",
    "\n",
    "    Dpro_ref=11*.0254 # [m] diameter\n",
    "    Mpro_ref=0.53*0.0283 # [kg] mass\n",
    "    \n",
    "# Ref: APC dynamics\n",
    "\n",
    "    C_t_dyn=0.02791-0.06543*J+0.11867*beta+0.27334*beta**2-0.28852*beta**3+0.02104*J**3-0.23504*J**2+0.18677*beta*J**2 # thrust coef for APC props in dynamics\n",
    "    C_p_dyn=0.01813-0.06218*beta+0.00343*J+0.35712*beta**2-0.23774*beta**3+0.07549*beta*J-0.1235*J**2 # power coef for APC props in dynamics\n",
    "\n",
    "    F_pro_to=C_t_sta*(rho_air)*Dpro_DC**4*n_pro_to**2\n",
    "    F_pro_cl=C_t_dyn*(rho_air)*Dpro_DC**4*n_pro_cl**2#unknown\n",
    "    \n",
    "# Propeller selection with take-off scenario\n",
    "        \n",
    "    Wpro_to=n_pro_to*2*3.14 # [rad/s] Propeller speed\n",
    "    Mpro=Mpro_ref*(Dpro_DC/Dpro_ref)**3 # [kg] Propeller mass\n",
    "    Ppro_to=C_p_sta*(rho_air)*n_pro_to**3*Dpro_DC**5# [W] Power per propeller\n",
    "    Qpro_to=Ppro_to/Wpro_to # [N.m] Propeller torque\n",
    "\n",
    "# Propeller torque& speed for hover\n",
    "\n",
    "    n_pro_hover=sqrt(F_pro_hov/(C_t_sta*(rho_air)*Dpro**4)) # [Hz] hover speed\n",
    "    Wpro_hover=n_pro_hover*2*3.14 # [rad/s] Propeller speed    \n",
    "    \n",
    "    Ppro_hover=C_p_sta*(rho_air)*n_pro_hover**3*Dpro**5# [W] Power per propeller\n",
    "    Qpro_hover=Ppro_hover/Wpro_hover # [N.m] Propeller torque    \n",
    "\n",
    "    V_bat_est=k_vb*1.84*(Ppro_to)**(0.36) # [V] battery voltage estimation\n",
    "    \n",
    "#Propeller torque &speed for climbing\n",
    "    Wpro_cl=n_pro_cl*2*3.14 # [rad/s] Propeller speed for climbing   \n",
    "    \n",
    "    Ppro_cl=C_p_dyn*(rho_air)*n_pro_cl**3*Dpro**5# [W] Power per propeller for climbing\n",
    "    Qpro_cl=Ppro_cl/Wpro_cl # [N.m] Propeller torque for climbing   \n"
   ]
  }
 ],
 "metadata": {
  "kernelspec": {
   "display_name": "Python 3",
   "language": "python",
   "name": "python3"
  },
  "language_info": {
   "codemirror_mode": {
    "name": "ipython",
    "version": 3
   },
   "file_extension": ".py",
   "mimetype": "text/x-python",
   "name": "python",
   "nbconvert_exporter": "python",
   "pygments_lexer": "ipython3",
   "version": "3.7.5"
  }
 },
 "nbformat": 4,
 "nbformat_minor": 4
}
