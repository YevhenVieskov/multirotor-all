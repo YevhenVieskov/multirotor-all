{
 "cells": [
  {
   "cell_type": "markdown",
   "metadata": {
    "slideshow": {
     "slide_type": "slide"
    }
   },
   "source": [
    "<img src=\"./pictures/DroneApp_logo.png\" style=\"float:right; max-width: 180px; display: inline\" alt=\"INSA\" />\n",
    "<img src=\"./pictures/logo_sizinglab.png\" style=\"float:right; max-width: 100px; display: inline\" alt=\"INSA\" />"
   ]
  },
  {
   "cell_type": "markdown",
   "metadata": {
    "slideshow": {
     "slide_type": "slide"
    }
   },
   "source": [
    "# Sizing of multi-rotor drones\n",
    "\n",
    "*This set of documents aims at to give an introduction on the use of Python and Jupyter notebooks for the sizing of multi-rotor drones.*\n",
    "\n",
    "*Written by Marc Budinger, Aitor Ochotorena (INSA Toulouse) and Scott Delbecq (ISAE-SUPAERO), Toulouse, France.*\n"
   ]
  },
  {
   "cell_type": "markdown",
   "metadata": {
    "slideshow": {
     "slide_type": "slide"
    }
   },
   "source": [
    "### Table of contents\n",
    "\n",
    "##### Architecture & sizing scenarios\n",
    "1. [Case study and architecture presentation](01_CaseStudy.ipynb) \n",
    "2. [Sizing scenarios definitions](02_SizingScenariosDefinitions.ipynb)\n",
    "3. [Sizing scenarios equations](03_SizingScenariosEquations.ipynb)\n",
    "\n",
    "##### Estimation models \n",
    "4. Scaling law of electrical components\n",
    "\n",
    "    a. [Motors](04a_ScalingLawsMotors.ipynb)\n",
    "    \n",
    "    b. [ESC](04b_ScalingLawsESC.ipynb)\n",
    "    \n",
    "    c. [Batteries](04c_ScalingLawsBatteries.ipynb)\n",
    "    \n",
    "    d. [Cables](04d_ScalingLawsCables.ipynb)\n",
    "\n",
    "5. Regression models for propellers\n",
    "\n",
    "    a. [Statics, V=0](05_PropellerStaticRegression.ipynb)\n",
    "    \n",
    "    b. [Dynamics, V$\\neq$0](05b-PropellerDynamicScenarios.ipynb)\n",
    "\n",
    "##### Component sizing code  \n",
    "6. [Introduction](06_SizingModelsIntroduction.ipynb)  \n",
    "    a. [Propeller](06a_PropellerSelection.ipynb)\n",
    "    \n",
    "    b. [Motor Student](06b_MotorSelection.ipynb)\n",
    "    \n",
    "    c. [Battery and ESC](06c_BatteryESCSelection.ipynb)\n",
    "        \n",
    "    d. [Frame](06d_FrameSelection.ipynb)\n",
    "\n",
    "##### System sizing code and optimization  \n",
    "###### Hover and Take-Off \n",
    "7. [Drone Sizing Code and Optimization: Hover and Take-Off](07_SystemSizingCodeOptimization_basic.ipynb)\n",
    "\n",
    "    a. [Sizing Code Frame to Crash Force and Take-Off](07_SizingCode_Frame.ipynb)\n",
    "    \n",
    "###### Hover, Take-Off and Climb  \n",
    "    \n",
    "8. [Case Study. Sizing Code and Optimization: Hover, Take-Off and Vertical Climb](08-CaseStudy_SizingDroneStatics%2BClimb.ipynb)\n",
    "\n",
    "    a. [Sizing code: Vertical Climb. Optimize Torque](08a_SizingCodeVerticalFlight.ipynb)\n",
    "    \n",
    "    b. [System Sizing Code. Algorithm A](08b-SystemSizingCodeOptimization_Complete_AlgorithmA.ipynb)\n",
    "    \n",
    "    c. [Monotonicity Analysis](08c_MonotonicityTable.ipynb)\n",
    "    \n",
    "    d. [System Sizing Code. Algorithm B after MP1](08d-SystemSizingCodeOptimization_Complete_AlgorithmB.ipynb)\n",
    "    \n",
    "    e. [System Sizing Code. Algorithm C after MP1 and oversizing coef.](08e-SystemSizingCodeOptimization_Complete_AlgorithmC.ipynb)\n",
    "    \n",
    "##### Visualization and Rendering 3D\n",
    "9. [3D Visualization linking Sizing Code with OpenSCAD](09.-SizingCode_Visu3D.ipynb)\n",
    "\n",
    "##### Standalone web applications\n",
    "10. Voila\n",
    "\n",
    "    a. [Voila. Sizing Code](10a-VOILA-Tool-SizingCode_CustomSpecs.ipynb)\n",
    "    \n",
    "    b. [Voila. Sizing Code linked with data catalogues](10b-VOILA-Tool-SizingCode-Catalogues.ipynb)\n",
    "\n",
    "##### Validation\n",
    "11. Validation using commercial models\n",
    "\n",
    "    a. [Minicopter](11a-Validation-MK4.ipynb)\n",
    "    \n",
    "    b. [Octocopter](11a-Validation-s1000.ipynb)\n",
    "    \n",
    "    c. [Taxi Drone](11c-Validation-eHang.ipynb)\n",
    "\n",
    "\n",
    "##### Appendices  \n",
    "A1. [Quadrotor description](A1_QuadroDescription.ipynb)\n",
    "\n",
    "A2. [Sizing scenarios synthesis](A2_Sizing_equations.ipynb)\n",
    "\n",
    "A3. [Algorithm generation of monotonicity analysis](11c-Validation-eHang.ipynb)"
   ]
  },
  {
   "cell_type": "markdown",
   "metadata": {
    "slideshow": {
     "slide_type": "slide"
    }
   },
   "source": [
    "### Remarks\n",
    "\n",
    "This document has been written with Jupyter Notebook. The Jupyter Notebook is an open-source web application that allows you to create and share documents that contain live code, equations, visualizations and narrative text. \n",
    "\n",
    "More informations about Jupyter can be found [here](http://jupyter.org/).\n",
    "\n",
    "The \"live\" code is python 3 with numpy, scipy packages. Jupyter and a lot of scientific packages are included in the [Anaconda](https://www.anaconda.com/what-is-anaconda/) python distribution.\n",
    "\n",
    "Additional package to install:\n",
    "\n",
    "*pip install --user cloudpickle*\n",
    "\n",
    "*pip install  --proxy=http://proxy.isae.fr:3128 --user cloudpickle* (if connected to ISAE-SUPAERO network)\n",
    "\n",
    "The narrative text is formatting with markdown section. Here is a short tutorial about the use of the [markdown](http://www.markdowntutorial.com) standard.  \n",
    "\n",
    "[RISE](https://github.com/damianavila/RISE) allows you to instantly turn your Jupyter Notebooks into a slideshow.  \n",
    "[Pandoc](https://pandoc.org/) enables to [convert](https://mrjoe.uk/convert-markdown-to-word-document/) markdown file into word documents:  \n",
    "\n",
    "*pandoc -o output.docx -f markdown -t docx filename.md*\n",
    "\n",
    "\n"
   ]
  },
  {
   "cell_type": "code",
   "execution_count": null,
   "metadata": {},
   "outputs": [],
   "source": []
  }
 ],
 "metadata": {
  "kernelspec": {
   "display_name": "Python 3",
   "language": "python",
   "name": "python3"
  },
  "language_info": {
   "codemirror_mode": {
    "name": "ipython",
    "version": 3
   },
   "file_extension": ".py",
   "mimetype": "text/x-python",
   "name": "python",
   "nbconvert_exporter": "python",
   "pygments_lexer": "ipython3",
   "version": "3.7.5"
  }
 },
 "nbformat": 4,
 "nbformat_minor": 2
}
