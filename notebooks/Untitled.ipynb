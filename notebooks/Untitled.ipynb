{
 "cells": [
  {
   "cell_type": "markdown",
   "metadata": {},
   "source": [
    "### Sizing Tool"
   ]
  },
  {
   "cell_type": "code",
   "execution_count": 2,
   "metadata": {},
   "outputs": [
    {
     "data": {
      "application/vnd.jupyter.widget-view+json": {
       "model_id": "c93452e567954f69a5a5b35c25251ae4",
       "version_major": 2,
       "version_minor": 0
      },
      "text/plain": [
       "VBox(children=(Dropdown(description='Mode:', options=('Sizing', 'Simulation', 'Rendering'), value='Sizing'), D…"
      ]
     },
     "metadata": {},
     "output_type": "display_data"
    }
   ],
   "source": [
    "from IPython.display import display, clear_output\n",
    "\n",
    "from ipywidgets import Layout\n",
    "\n",
    "\n",
    "import ipywidgets as widgets\n",
    "\n",
    "import ipyvuetify as v\n",
    "\n",
    "from bqplot import pyplot as plt\n",
    "\n",
    "\n",
    "mode = ['Sizing', 'Simulation', 'Rendering']\n",
    "\n",
    "sizingmode = ['Using custom specs.', 'From available drone models', 'From components\\'technical datasheet']\n",
    "\n",
    "\n",
    " \n",
    "widget_mode = widgets.Dropdown(options=mode, description='Mode:')\n",
    "\n",
    "widget_sizing = widgets.Dropdown(options=sizingmode, description='Sizing:')\n",
    "\n",
    "\n",
    "data_input_style = \"<style>.data_input input { background-color:#D0F0D0 !important; }</style>\"\n",
    "\n",
    "\n",
    "box_layout = Layout(display='flex',\n",
    "                    flex_flow='column',\n",
    "                    align_items='stretch',\n",
    "                    border='solid',\n",
    "                    background_color='red',\n",
    "                    width='20%')\n",
    "\n",
    "global_vbox = widgets.VBox(layout=box_layout)\n",
    "\n",
    "global_vbox.children = [widget_mode,widget_sizing]\n",
    "\n",
    "\n",
    "\n",
    "def change_event(x):\n",
    "    global widget_mode\n",
    "    global widget_sizing\n",
    "    list_name = widget_mode.value\n",
    "    widget_sizing.index = None #This line is very important for setting the values for widgets other than widget with observe method\n",
    "    widget_sizing.index = 0\n",
    "    \n",
    "    if(list_name == 'Sizing'):       \n",
    "        widget_sizing.options = sizingmode\n",
    "        %run 06c-s1000-EvolutionaryAlgorithm-Climb,TO,Hover_new.ipynb\n",
    "        foo()\n",
    "    else:\n",
    "        widget_sizing.options = [None]\n",
    "\n",
    "\n",
    "widget_mode.observe(change_event)\n",
    "global_vbox"
   ]
  },
  {
   "cell_type": "code",
   "execution_count": 17,
   "metadata": {
    "scrolled": false
   },
   "outputs": [
    {
     "data": {
      "application/vnd.jupyter.widget-view+json": {
       "model_id": "a5daf3ffe56f40f18afeb34fe68a2d9a",
       "version_major": 2,
       "version_minor": 0
      },
      "text/plain": [
       "VBox(children=(HTML(value='<style>.data_input input { background-color:#D0F0D0 !important; }</style>'), VBox(c…"
      ]
     },
     "metadata": {},
     "output_type": "display_data"
    }
   ],
   "source": [
    "import ipywidgets\n",
    "from ipywidgets import Layout\n",
    "\n",
    "data_input_style = \"<style>.data_input input { background-color:#D0F0D0 !important; }</style>\"\n",
    "value_entry = global_vbox                    \n",
    "value_entry.add_class('data_input')\n",
    "\n",
    "children = [\n",
    "    ipywidgets.HTML(data_input_style),\n",
    "    value_entry\n",
    "]\n",
    "\n",
    "ipywidgets.VBox(children=children)\n",
    "# wdg2.style.button_color = 'green'\n"
   ]
  },
  {
   "cell_type": "code",
   "execution_count": 45,
   "metadata": {},
   "outputs": [
    {
     "data": {
      "application/vnd.jupyter.widget-view+json": {
       "model_id": "8c4d0264c7014610b78f0544a2c5a14b",
       "version_major": 2,
       "version_minor": 0
      },
      "text/plain": [
       "HBox(children=(Label(value='Text1'), Label(value='Text2')), layout=Layout(border='solid 2px'))"
      ]
     },
     "metadata": {},
     "output_type": "display_data"
    }
   ],
   "source": [
    "from ipywidgets.widgets import Label, Layout, HBox\n",
    "\n",
    "label1 = Label('Text1')\n",
    "label2 = Label('Text2')\n",
    "box1 = HBox([label1, label2], layout=Layout(border='solid 2px')) # background_color='red'?\n",
    "display(box1)"
   ]
  },
  {
   "cell_type": "markdown",
   "metadata": {},
   "source": [
    "<style>\n",
    "th {\n",
    "background-color:#55FF33;\n",
    "}\n",
    "td {\n",
    "background-color:#00FFFF;\n",
    "}\n",
    "</style>"
   ]
  },
  {
   "cell_type": "code",
   "execution_count": 3,
   "metadata": {},
   "outputs": [
    {
     "data": {
      "text/html": [
       "<table><tr><th>bar</th><th>bar</th></tr><tr><td>foo</td><td>foo</td></tr></table>"
      ],
      "text/plain": [
       "<IPython.core.display.HTML object>"
      ]
     },
     "metadata": {},
     "output_type": "display_data"
    }
   ],
   "source": [
    "from IPython.display import HTML\n",
    "table = \"<table><tr><th>bar</th><th>bar</th></tr><tr><td>foo</td><td>foo</td></tr></table>\"\n",
    "display(HTML(table))"
   ]
  },
  {
   "cell_type": "code",
   "execution_count": 38,
   "metadata": {},
   "outputs": [],
   "source": [
    "from IPython.display import HTML, display\n",
    "\n",
    "def set_background(color):    \n",
    "    script = (\n",
    "        \"var cell = this.closest('.jp-CodeCell');\"\n",
    "        \"var editor = cell.querySelector('.jp-Editor');\"\n",
    "        \"editor.style.background='{}';\"\n",
    "        \"this.parentNode.removeChild(this)\"\n",
    "    ).format(color)\n",
    "\n",
    "    display(HTML('<img src onerror=\"{}\">'.format(script)))"
   ]
  },
  {
   "cell_type": "code",
   "execution_count": 39,
   "metadata": {},
   "outputs": [
    {
     "data": {
      "text/html": [
       "<img src onerror=\"var cell = this.closest('.jp-CodeCell');var editor = cell.querySelector('.jp-Editor');editor.style.background='yellow';this.parentNode.removeChild(this)\">"
      ],
      "text/plain": [
       "<IPython.core.display.HTML object>"
      ]
     },
     "metadata": {},
     "output_type": "display_data"
    }
   ],
   "source": [
    "set_background('yellow')\n"
   ]
  },
  {
   "cell_type": "code",
   "execution_count": 37,
   "metadata": {},
   "outputs": [
    {
     "data": {
      "application/vnd.jupyter.widget-view+json": {
       "model_id": "9ca25d8a027f48489207be5e4886f0d3",
       "version_major": 2,
       "version_minor": 0
      },
      "text/plain": [
       "Box(children=(Button(button_style='danger', description='correct', layout=Layout(width='auto'), style=ButtonSt…"
      ]
     },
     "metadata": {},
     "output_type": "display_data"
    }
   ],
   "source": [
    "from ipywidgets import Layout, Button, Box\n",
    "\n",
    "items_layout = Layout( width='auto')     # override the default width of the button to 'auto' to let the button grow\n",
    "\n",
    "box_layout = Layout(display='flex',\n",
    "                    flex_flow='column',\n",
    "                    align_items='stretch',\n",
    "                    border='50px solid black',\n",
    "                    width='50%')\n",
    "\n",
    "words = ['correct', 'horse', 'battery', 'staple']\n",
    "items = [Button(description=word, layout=items_layout, button_style='danger') for word in words]\n",
    "box = Box(children=items, layout=box_layout)\n",
    "box"
   ]
  },
  {
   "cell_type": "code",
   "execution_count": 44,
   "metadata": {},
   "outputs": [
    {
     "data": {
      "application/vnd.jupyter.widget-view+json": {
       "model_id": "91878e1bbf45436ca94631be51aef8e5",
       "version_major": 2,
       "version_minor": 0
      },
      "text/plain": [
       "SelectMultiple(description='Fruits', index=(1,), layout=Layout(height='80px', width='75%'), options=('Apples',…"
      ]
     },
     "metadata": {},
     "output_type": "display_data"
    }
   ],
   "source": [
    "# Tested on JupyterLab 0.35.3 with Python 3.6 kernel\n",
    "import ipywidgets as widgets\n",
    "from ipywidgets.widgets import widget_serialization, trait_types\n",
    "\n",
    "from traitlets import Unicode, Instance, CaselessStrEnum\n",
    "\n",
    "class MySelectMultiple(widgets.SelectMultiple):\n",
    "    style=trait_types.InstanceDict(widgets.ButtonStyle).tag(sync=True, **widget_serialization)\n",
    "\n",
    "wdg2 = widgets.SelectMultiple(\n",
    "    options=['Apples', 'Oranges', 'Pears'],\n",
    "    value=['Oranges'],\n",
    "    description='Fruits',\n",
    "    layout=widgets.Layout(width='75%', height='80px'),\n",
    "    style= {'button_color':'red'},\n",
    "    disabled=False\n",
    ")\n",
    "\n",
    "wdg2"
   ]
  },
  {
   "cell_type": "code",
   "execution_count": 13,
   "metadata": {},
   "outputs": [
    {
     "data": {
      "application/vnd.jupyter.widget-view+json": {
       "model_id": "241c48669f15408fb48affb59153edf0",
       "version_major": 2,
       "version_minor": 0
      },
      "text/plain": [
       "HBox(children=(VBox(children=(Dropdown(description='Mode:', options=('Sizing', 'Simulation', 'Rendering'), val…"
      ]
     },
     "metadata": {},
     "output_type": "display_data"
    }
   ],
   "source": [
    "import ipywidgets as widgets\n",
    "\n",
    "style = {'description_width': '150pt'}\n",
    "layout = {'width': 'initial'}\n",
    "\n",
    "specs = widgets.HTML(value = f\"<b><font color='red'>{'Specifications:'}</b>\")\n",
    "                     \n",
    "M_pay = widgets.FloatSlider(\n",
    "    value=4.,\n",
    "    min=1,\n",
    "    max=100.0,\n",
    "    step=.1,\n",
    "    description='Load mass [kg]:',\n",
    "    readout_format='.1f',\n",
    "    style=style,\n",
    "    layout=layout\n",
    ")\n",
    "\n",
    "M_load_tex = widgets.FloatText(description=\"\", continuous_update=False,    style=style,\n",
    "    layout=layout\n",
    ")\n",
    "\n",
    "widgets.link((M_pay, 'value'), (M_load_tex, 'value'))\n",
    "\n",
    "M_load=widgets.HBox([M_pay,M_load_tex])                     \n",
    "\n",
    "t_hf = widgets.FloatSlider(\n",
    "    value=18,\n",
    "    min=1,\n",
    "    max=100.0,\n",
    "    step=1,\n",
    "    description='Hover flight time [min]',\n",
    "    readout_format='.0f',\n",
    ")\n",
    "\n",
    "t_h_tex = widgets.FloatText(description=\"\", continuous_update=False)\n",
    "\n",
    "widgets.link((t_hf, 'value'), (t_h_tex, 'value'))\n",
    "\n",
    "t_h=widgets.HBox([t_hf,t_h_tex])                     \n",
    "\n",
    "\n",
    "MTOW_slider = widgets.FloatSlider(\n",
    "    value=10,\n",
    "    min=1,\n",
    "    max=400.0,\n",
    "    step=1,\n",
    "    description='Maximum take-off weight [kg]',\n",
    "    readout_format='.0f',\n",
    ")                  \n",
    "\n",
    "MTOW_tex = widgets.FloatText(description=\"\", continuous_update=False)\n",
    "\n",
    "widgets.link((MTOW_slider, 'value'), (MTOW_tex, 'value'))\n",
    "\n",
    "MTOW=widgets.HBox([MTOW_slider,MTOW_tex])                     \n",
    "                     \n",
    "k_maxthrust_slider = widgets.FloatSlider(\n",
    "    value=3,\n",
    "    min=1.1,\n",
    "    max=4,\n",
    "    step=.1,\n",
    "    description='Ratio max thrust-hover [-]',\n",
    "    readout_format='.1f',\n",
    ")\n",
    "\n",
    "k_maxthrust_tex = widgets.FloatText(description=\"\", continuous_update=False)\n",
    "\n",
    "widgets.link((k_maxthrust_slider, 'value'), (k_maxthrust_tex, 'value'))\n",
    "\n",
    "k_maxthrust=widgets.HBox([k_maxthrust_slider,k_maxthrust_tex])                     \n",
    "\n",
    "MTOW=widgets.HBox([k_maxthrust_slider,k_maxthrust_tex])                     \n",
    "\n",
    "archit = widgets.HTML(value = f\"<b><font color='red'>{'Architecture'}</b>\")\n",
    "\n",
    "Narm_slider = widgets.FloatSlider(\n",
    "    value=8,\n",
    "    min=3,\n",
    "    max=12,\n",
    "    step=1,\n",
    "    description='Number of arms [-]',\n",
    "    readout_format='.0f',\n",
    ")\n",
    "\n",
    "Narm_tex = widgets.FloatText(description=\"\", continuous_update=False)\n",
    "\n",
    "widgets.link((Narm_slider, 'value'), (Narm_tex, 'value'))\n",
    "\n",
    "Narm=widgets.HBox([Narm_slider,Narm_tex])                     \n",
    "\n",
    "Np_arm=widgets.ToggleButtons(options=['Single rotor setup', 'Coaxial setup'],\n",
    "    description='Number of propellers per arm:',\n",
    "    disabled=False)\n",
    "\n",
    "Mod=widgets.ToggleButtons(options=['Direct Drive', 'Gear Drive'],\n",
    "    description='Motor configuration:',\n",
    "    tooltips=['No speed reductor', 'Motor with reduction'])\n",
    "\n",
    "vertical = widgets.HTML(value = f\"<b><font color='red'>{'Vertical climb'}</b>\")\n",
    "\n",
    "\n",
    "V_cl_slider = widgets.FloatSlider(\n",
    "    value=8,\n",
    "    min=1,\n",
    "    max=10,\n",
    "    step=1,\n",
    "    description='Rate of climb [m/s]',\n",
    "    readout_format='.0f',\n",
    ")\n",
    "\n",
    "V_cl_tex = widgets.FloatText(description=\"\", continuous_update=False)\n",
    "\n",
    "widgets.link((V_cl_slider, 'value'), (V_cl_tex, 'value'))\n",
    "\n",
    "V_cl = widgets.HBox([V_cl_slider,V_cl_tex])                     \n",
    "\n",
    "A_top_slider = widgets.FloatSlider(\n",
    "    value=0.09,\n",
    "    min=0.01,\n",
    "    max=1,\n",
    "    step=0.01,\n",
    "    description='Top surface [m^2]',\n",
    "    readout_format='.2f',\n",
    ")\n",
    "\n",
    "A_top_tex = widgets.FloatText(description=\"\", continuous_update=False)\n",
    "\n",
    "widgets.link((A_top_slider, 'value'), (A_top_tex, 'value'))\n",
    "\n",
    "A_top = widgets.HBox([A_top_slider,A_top_tex])                     \n",
    "\n",
    "objectif =widgets.HTML(value = f\"<b><font color='red'>{'Objective'}</b>\")\n",
    "\n",
    "Obj=widgets.ToggleButtons(options=['Minimize mass', 'Maximize time'],\n",
    "    description='Objective:',\n",
    "    disabled=False)\n",
    "\n",
    "\n",
    "\n",
    "k_M = widgets.FloatRangeSlider(\n",
    "    value=[1, +400.],\n",
    "    min=1., max=+500., step=0.1,\n",
    "    description='k_M:',\n",
    "    readout_format='.1f',\n",
    ")\n",
    "\n",
    "k_mot = widgets.FloatRangeSlider(\n",
    "    value=[1, +20.],\n",
    "    min=1., max=+30., step=0.1,\n",
    "    description='k_mot:',\n",
    "    readout_format='.1f',\n",
    ")\n",
    "\n",
    "k_speed_mot = widgets.FloatRangeSlider(\n",
    "    value=[1, +10.],\n",
    "    min=1., max=+20., step=0.1,\n",
    "    description='k_speed_mot:',\n",
    "    readout_format='.1f',\n",
    ")\n",
    "k_vb = widgets.FloatRangeSlider(\n",
    "    value=[1, +5.],\n",
    "    min=1., max=+10., step=0.1,\n",
    "    description='k_vb:',\n",
    "    readout_format='.1f',\n",
    ")\n",
    "k_ND = widgets.FloatRangeSlider(\n",
    "    value=[0.01, +1.],\n",
    "    min=0.01, max=+1., step=0.1,\n",
    "    description='k_ND:',\n",
    "    readout_format='.1f',\n",
    ")\n",
    "D_ratio = widgets.FloatRangeSlider(\n",
    "    value=[0.05, 0.99],\n",
    "    min=0.01, max=1, step=0.1,\n",
    "    description='D_ratio:',\n",
    "    readout_format='.1f',\n",
    ")\n",
    "\n",
    "k_Mb = widgets.FloatRangeSlider(\n",
    "    value=[0.01, 60],\n",
    "    min=0.01, max=100, step=0.1,\n",
    "    description='k_Mb:',\n",
    "    readout_format='.1f',\n",
    ")\n",
    "\n",
    "beta = widgets.FloatRangeSlider(\n",
    "    value=[0.3, 0.6],\n",
    "    min=0.3, max=0.6, step=0.1,\n",
    "    description='beta:',\n",
    "    readout_format='.1f',\n",
    ")\n",
    "\n",
    "J = widgets.FloatRangeSlider(\n",
    "    value=[0.01, 0.5],\n",
    "    min=0, max=0.6, step=0.1,\n",
    "    description='J:',\n",
    "    readout_format='.1f',\n",
    ")\n",
    "\n",
    "k_ESC = widgets.FloatRangeSlider(\n",
    "    value=[1, 15],\n",
    "    min=1, max=20, step=0.1,\n",
    "    description='k_ESC:',\n",
    "    readout_format='.1f',\n",
    ")\n",
    "\n",
    "\n",
    "Nred = widgets.FloatRangeSlider(\n",
    "    value=[1, 20],\n",
    "    min=1, max=30, step=0.1,\n",
    "    description='Nred:',\n",
    "    readout_format='.1f',\n",
    ")\n",
    "                       \n",
    "# color_buttons = widgets.ToggleButtons(\n",
    "#     options=['blue', 'red', 'green'],\n",
    "#     description='Color:',\n",
    "# )\n",
    "\n",
    "# button = widgets.Button(\n",
    "#     description='Plot',\n",
    "# )\n",
    "\n",
    "# title_textbox = widgets.Text(\n",
    "#     value='Hello World',\n",
    "#     description='Title:',\n",
    "# )\n",
    "\n",
    "# color_picker = widgets.ColorPicker(\n",
    "#     concise=True,\n",
    "#     description='Background color:',\n",
    "#     value='#efefef',\n",
    "# )\n",
    "\n",
    "# grid_button = widgets.ToggleButton(\n",
    "#     value=False,\n",
    "#     description='Grid',\n",
    "#     icon='check'\n",
    "# )\n",
    "\n",
    "# tab1 = widgets.VBox(children=[specs,M_load,\n",
    "#                               t_h,MTOW,k_maxthrust,archit,Narm,Np_arm,Mod,vertical,V_cl,A_top,objectif,Obj])\n",
    "# tab2 = widgets.VBox(children=[color_buttons,\n",
    "#                       widgets.HBox(children=[title_textbox,\n",
    "#                                      color_picker,\n",
    "#                                      grid_button]),\n",
    "#                                      ])\n",
    "\n",
    "# tab = widgets.Tab(children=[tab1, tab2])\n",
    "# tab.set_title(0, 'plot')\n",
    "# tab.set_title(1, 'styling')\n",
    "\n",
    "                       \n",
    "w2=v.Tabs(_metadata={'mount_id': 'content-main'}, children=[\n",
    "    v.Tab(children=['Specs.']),\n",
    "    v.Tab(children=['Design vars.']),\n",
    "    v.Tab(children=['References']),\n",
    "    v.TabItem(children=[specs,M_load,t_h,MTOW,k_maxthrust,archit,Narm,Np_arm,Mod,vertical,V_cl,A_top,objectif,Obj]),\n",
    "    v.TabItem(children=[k_M,k_mot,k_speed_mot,k_vb,k_ND,D_ratio,k_Mb,beta,J,k_ESC,Nred])       \n",
    "               ]\n",
    "    )\n",
    "\n",
    "\n",
    "ui = widgets.HBox([global_vbox,w2])\n",
    "display(ui)\n"
   ]
  },
  {
   "cell_type": "code",
   "execution_count": 12,
   "metadata": {},
   "outputs": [
    {
     "data": {
      "application/vnd.jupyter.widget-view+json": {
       "model_id": "cac96b47303a4d959571f704b7af8b4a",
       "version_major": 2,
       "version_minor": 0
      },
      "text/plain": [
       "Button(description='Calculate', style=ButtonStyle())"
      ]
     },
     "metadata": {},
     "output_type": "display_data"
    },
    {
     "data": {
      "application/vnd.jupyter.widget-view+json": {
       "model_id": "725503b2166f4d84a8d59470174ce0a7",
       "version_major": 2,
       "version_minor": 0
      },
      "text/plain": [
       "Output()"
      ]
     },
     "metadata": {},
     "output_type": "display_data"
    }
   ],
   "source": [
    "# import foo\n",
    "%run Sizing_custom_specs/06c-s1000-EvolutionaryAlgorithm-Climb,TO,Hover_new.ipynb\n",
    "# foo()"
   ]
  },
  {
   "cell_type": "code",
   "execution_count": 20,
   "metadata": {},
   "outputs": [],
   "source": [
    "'''\n",
    "from bqplot import pyplot as plt\n",
    "import numpy as np\n",
    "\n",
    "# generate some fake data\n",
    "np.random.seed(0)\n",
    "n = 2000\n",
    "x = np.linspace(0.0, 10.0, n)\n",
    "y = np.cumsum(np.random.randn(n)*10).astype(int)\n",
    "\n",
    "fig_hist = plt.figure(title='Histogram')\n",
    "hist = plt.hist(y, bins=25)\n",
    "\n",
    "fig_hist.layout.width = 'auto'\n",
    "fig_hist.layout.height = 'auto'\n",
    "fig_hist.layout.min_height = '300px' # so it still shows nicely in the notebook\n",
    "\n",
    "content_main =  v.Layout(\n",
    "                    _metadata={'mount_id': 'content-main'},\n",
    "                    row=True, wrap=True, align_center=True, children=[\n",
    "                    v.Flex(xs12=True, lg6=True, children=[\n",
    "                        fig_hist\n",
    "                    ]),\n",
    "                    v.Flex(xs12=True, lg6=True, children=[\n",
    "                        fig_hist\n",
    "                    ]),\n",
    "                ])\n",
    "\n",
    "# no need to display content_main for the voila-vuetify template\n",
    "# but might be useful for debugging\n",
    "# content_main\n",
    "'''# create a bqplot figure\n",
    "\n"
   ]
  },
  {
   "cell_type": "code",
   "execution_count": null,
   "metadata": {},
   "outputs": [],
   "source": []
  }
 ],
 "metadata": {
  "kernelspec": {
   "display_name": "Python 3",
   "language": "python",
   "name": "python3"
  },
  "language_info": {
   "codemirror_mode": {
    "name": "ipython",
    "version": 3
   },
   "file_extension": ".py",
   "mimetype": "text/x-python",
   "name": "python",
   "nbconvert_exporter": "python",
   "pygments_lexer": "ipython3",
   "version": "3.7.1"
  }
 },
 "nbformat": 4,
 "nbformat_minor": 2
}
