{
 "cells": [
  {
   "cell_type": "markdown",
   "metadata": {
    "slideshow": {
     "slide_type": "slide"
    }
   },
   "source": [
    "<img src=\"./pictures/logo-insa.png\" style=\"float:right; max-width: 60px; display: inline\" alt=\"INSA\" /></a>"
   ]
  },
  {
   "cell_type": "markdown",
   "metadata": {
    "slideshow": {
     "slide_type": "slide"
    }
   },
   "source": [
    "# Sizing of a multi-rotor drone\n",
    "\n",
    "*Written by Marc Budinger, INSA Toulouse, France*"
   ]
  },
  {
   "cell_type": "code",
   "execution_count": 15,
   "metadata": {},
   "outputs": [
    {
     "data": {
      "text/plain": [
       "-232.03672642674564"
      ]
     },
     "execution_count": 15,
     "metadata": {},
     "output_type": "execute_result"
    }
   ],
   "source": [
    "((7.999e5-100)*0.225**3/6+0.5*(-203996.15+39)*0.225**2-2.81*0.225+0.106)/(2e9*3.14159/4*0.01**4)"
   ]
  },
  {
   "cell_type": "markdown",
   "metadata": {},
   "source": [
    "The objective of this notebook is to select the best compromise of components (propeller, motor, ESC, battery) of a multi-rotor drone for given specifiations.\n",
    "\n",
    "**Scipy** and **math** packages will be used for this notebook in order to illustrate the optimization algorithms of python."
   ]
  },
  {
   "cell_type": "code",
   "execution_count": 104,
   "metadata": {},
   "outputs": [],
   "source": [
    "import scipy\n",
    "import scipy.optimize\n",
    "from math import pi\n",
    "from math import sqrt\n",
    "import math\n",
    "import timeit\n",
    "\n",
    "\n",
    "import numpy as np\n",
    "from pyDOE import *\n",
    "\n",
    "import pandas as pd \n",
    "from pandas import read_csv"
   ]
  },
  {
   "cell_type": "markdown",
   "metadata": {
    "slideshow": {
     "slide_type": "slide"
    }
   },
   "source": [
    "## Sizing code"
   ]
  },
  {
   "cell_type": "markdown",
   "metadata": {
    "slideshow": {
     "slide_type": "slide"
    }
   },
   "source": [
    "The set of equations of a sizing code can generate typical issues such : \n",
    "- Underconstrained set of equations: the lacking equations can come from additional scenarios, estimation models or additional sizing variable.   \n",
    "- overconstrained equations often due to the selection of a component on multiple critera: the adding of over-sizing coefficients and constraints in the optimization problem can generally fix this issue   \n",
    "- algebraic loops often due to selection criteria requiring informations generally available after the selection \n",
    "\n",
    "Concerning overconstraints components, we have here:\n",
    "- Brushless motors with multiple torque and voltage constraints (hover and transient vertical displacement) \n",
    "\n",
    "Multiple algebraic loops appears in the sizing problem:\n",
    "- The thrust depends of the total mass which depend of components required for generating this thrust.\n",
    "\n",
    "The final optimization problem depends thus of these parameters:\n",
    "- $\\beta=pitch/diameter$ ratio to define the propeller (underconstraint)\n",
    "- $k_M$ over sizing coefficient on the load mass to estimate the final total mass (algebraic loop)\n",
    "- $k_{mot}$ over sizing coeffcient on the motor torque to estimate the max torque with the hover flight conditions (algebraic loop)\n",
    "- $k_{speed}$ over sizing coeffcient on the motor speed to take into account voltage limits during hover or take-off flight (algebraic loop)\n",
    "- $k_{ND}$ slow down propeller coef : ND = kNDmax / k_ND (underconstraint)\n",
    "- $k_{frame}$ aspect ratio e/c (thickness/side) for the beam of the frame (underconstraint)\n",
    "- $k_{Mb}$ over sizing coefficient on the battery load mass (underconstraint)\n",
    "- $k_{vb}$ over sizing coefficient for the battery voltage (underconstraint)\n",
    "\n"
   ]
  },
  {
   "cell_type": "markdown",
   "metadata": {
    "slideshow": {
     "slide_type": "slide"
    }
   },
   "source": [
    "More details in the setting up of sizing code can be found in the  [following paper](https://www.researchgate.net/profile/Marc_Budinger/publication/277933677_Computer-aided_definition_of_sizing_procedures_and_optimization_problems_of_mechatronic_systems/links/55969de508ae793d137c7ea5/Computer-aided-definition-of-sizing-procedures-and-optimization-problems-of-mechatronic-systems.pdf):  \n",
    "\n",
    "> Reysset, A., Budinger, M., & Maré, J. C. (2015). Computer-aided definition of sizing procedures and optimization problems of mechatronic systems. Concurrent Engineering, 23(4), 320-332.\n",
    "\n",
    "The sizing code is defined here in a function which can give:\n",
    "- an evaluation of the objective: here the total mass or the autonomy of the battery.\n",
    "- an evaluation of the constraints: must be positive to be validated.\n"
   ]
  },
  {
   "cell_type": "markdown",
   "metadata": {
    "slideshow": {
     "slide_type": "slide"
    }
   },
   "source": [
    "## Objectives and specifications\n",
    "\n",
    "Main specifications :\n",
    "- a load (video, control card) of mass $M_{load}$.  \n",
    "- the surface of the plate $A_{top}$ and $A_{side}$.\n",
    "- an autonomy $t_{hf}$ for the hover flight.\n",
    "- an acceleration to take off $a_{to}$.\n"
   ]
  },
  {
   "cell_type": "code",
   "execution_count": 105,
   "metadata": {
    "slideshow": {
     "slide_type": "slide"
    }
   },
   "outputs": [],
   "source": [
    "# Specifications\n",
    "\n",
    "# Load\n",
    "M_load=4 # [kg] load mass\n",
    "\n",
    "# Acceleration take off\n",
    "a_to= 1*9.81 # [m/s²] acceleration\n",
    "\n",
    "# Autonomy\n",
    "t_h=30 # [min] time of hover fligth\n",
    "\n",
    "# Objectif\n",
    "MaxTime=True # Objective"
   ]
  },
  {
   "cell_type": "markdown",
   "metadata": {},
   "source": [
    "## Architecture defintion and design assumptions"
   ]
  },
  {
   "cell_type": "code",
   "execution_count": 106,
   "metadata": {},
   "outputs": [],
   "source": [
    "# Architecture of the multi-rotor drone (4,6, 8 arms, ...)\n",
    "Narm=4 # [-] number of arm\n",
    "Np_arm=1 # [-] number of propeller per arm (1 or 2)\n",
    "Npro=Np_arm*Narm # [-] Propellers number\n"
   ]
  },
  {
   "cell_type": "code",
   "execution_count": 107,
   "metadata": {
    "slideshow": {
     "slide_type": "slide"
    }
   },
   "outputs": [],
   "source": [
    "# -----------------------\n",
    "# sizing code\n",
    "# -----------------------\n",
    "# inputs: \n",
    "# - param: optimisation variables vector (reduction ratio, oversizing coefficient)\n",
    "# - arg: selection of output  \n",
    "# output: \n",
    "# - objective if arg='Obj', problem characteristics if arg='Prt', constraints other else\n",
    "\n",
    "def SizingCode(param, arg):\n",
    "# Design variables\n",
    "# ---\n",
    "    k_M=param[0] # over sizing coefficient on the load mass \n",
    "    k_mot=param[1] # over sizing coefficient on the motor torque\n",
    "    k_speed_mot=param[2] # over sizing coefficient on the motor speed\n",
    "    beta=param[3] # pitch/diameter ratio of the propeller\n",
    "    k_ND=param[4] # slow down propeller coef : ND = kNDmax / k_ND\n",
    "    k_frame=param[5] # aspect ratio e/c (thickness/side) for the beam of the frame\n",
    "    k_Mb=param[6] # over sizing coefficient on the battery load mass \n",
    "    k_vb=param[7] # over sizing coefficient for the battery voltage\n",
    "    \n",
    "# Hover & Take-Off thrust \n",
    "# ---\n",
    "    Mtotal=k_M*M_load # [kg] Estimation of the total mass (or equivalent weight of dynamic scenario)\n",
    "    \n",
    "    Tpro_hover=Mtotal*(9.81)/Npro # [N] Thrust per propeller for hover\n",
    "    Tpro_takeoff=Mtotal*(9.81+a_to)/Npro # [N] Thrust per propeller for take-off\n",
    "\n",
    "# Propeller selection\n",
    "# ---\n",
    "    rho_air=1.18 # [kg/m^3] air density \n",
    "    \n",
    "# Propeller characteristicss\n",
    "# Ref : APC \n",
    "\n",
    "    C_t=4.27e-02 + 1.44e-01 * beta # Thrust coef with T=C_T.rho.n^2.D^4\n",
    "    C_p=-1.48e-03 + 9.72e-02 * beta  # Power coef with P=C_p.rho.n^3.D^5\n",
    "\n",
    "    NDmax=105000/60*.0254 # [Hz.m] max speed limit (N.D max)\n",
    "\n",
    "    Dpro_ref=11*.0254 # [m] diameter\n",
    "    Mpro_ref=0.53*0.0283 # [kg] mass\n",
    "\n",
    "# Propeller selection with take-off scenario\n",
    "\n",
    "    Dpro=(Tpro_takeoff/(C_t*rho_air*(NDmax/k_ND)**2))**0.5  # [m] Propeller diameter\n",
    "    n_pro_takeoff=NDmax/k_ND/Dpro # [Hz] Propeller speed \n",
    "    #print(k_ND)\n",
    "    #print(n_pro_takeoff*60, 'RPM')\n",
    "    #print(n_pro_takeoff*60*Dpro/.0254, 'RPMxInch')\n",
    "    Wpro_takeoff=n_pro_takeoff*2*3.14 # [rad/s] Propeller speed\n",
    "    \n",
    "    Mpro=Mpro_ref*(Dpro/Dpro_ref)**2 # [kg] Propeller mass\n",
    "    \n",
    "    Ppro_takeoff=C_p*rho_air*n_pro_takeoff**3*Dpro**5# [W] Power per propeller\n",
    "    Qpro_takeoff=Ppro_takeoff/Wpro_takeoff # [N.m] Propeller torque\n",
    "    #print(Qpro , 'N.m')\n",
    "\n",
    "# Propeller torque& speed for hover\n",
    "\n",
    "    n_pro_hover=sqrt(Tpro_hover/(C_t*rho_air*Dpro**4)) # [Hz] hover speed\n",
    "    Wpro_hover=n_pro_hover*2*3.14 # [rad/s] Propeller speed    \n",
    "    \n",
    "    Ppro_hover=C_p*rho_air*n_pro_hover**3*Dpro**5# [W] Power per propeller\n",
    "    Qpro_hover=Ppro_hover/Wpro_hover # [N.m] Propeller torque    \n",
    "    \n",
    "# Battery voltage estimation with propeller power\n",
    "    V_bat_est=k_vb*1.84*(Ppro_takeoff)**(0.36) # [V] battery voltage estimation\n",
    "\n",
    "# Motor selection & scaling laws\n",
    "# ---\n",
    "    # Selection of motor with hover scenario\n",
    "    Tmot=k_mot*Qpro_hover   # [N.m] Motor nominal torque per propeller\n",
    "        \n",
    "    # Motor reference\n",
    "    # Ref : AXI 5325/16 GOLD LINE\n",
    "    Tmot_ref=2.32  # [N.m] rated torque\n",
    "    Tmot_max_ref=85/70*Tmot_ref # [N.m] max torque\n",
    "    Rmot_ref=0.03  # [Ohm] resistance\n",
    "    Mmot_ref=0.575 # [kg] mass\n",
    "    Ktmot_ref=0.03 # [N.m/A] torque coefficient\n",
    "    Tfmot_ref=0.03 # [N.m] friction torque (zero load, nominal speed) \n",
    "    \n",
    "    Mmot=Mmot_ref*(Tmot/Tmot_ref)**(3/3.5) # [kg] Motor mass\n",
    "    Tmot_max=Tmot_max_ref*(Tmot/Tmot_ref)**(1) # [N.m] max torque\n",
    "    \n",
    "    # Selection with take-off speed\n",
    "    Ktmot=V_bat_est/(k_speed_mot*Wpro_takeoff) # [N.m/A] or [V/(rad/s)] Kt motor \n",
    "    Rmot=Rmot_ref*(Tmot/Tmot_ref)**(-5/3.5)*(Ktmot/Ktmot_ref)**(2)  # [Ohm] motor resistance\n",
    "    Tfmot=Tfmot_ref*(Tmot/Tmot_ref)**(3/3.5) # [N.m] Friction torque\n",
    "\n",
    "    # Hover current and voltage\n",
    "    Imot_hover = (Qpro_hover+Tfmot)/Ktmot # [I] Current of the motor per propeller\n",
    "    Umot_hover = Rmot*Imot_hover + Wpro_hover*Ktmot # [V] Voltage of the motor per propeller\n",
    "    P_el_hover=Umot_hover*Imot_hover # [W] Hover : electrical power\n",
    "    \n",
    "    # Take-Off current and voltage\n",
    "    Imot_takeoff = (Qpro_takeoff+Tfmot)/Ktmot # [I] Current of the motor per propeller\n",
    "    Umot_takeoff = Rmot*Imot_takeoff + Wpro_takeoff*Ktmot # [V] Voltage of the motor per propeller\n",
    "    P_el_takeoff=Umot_takeoff*Imot_takeoff # [W] Takeoff : electrical power\n",
    "    \n",
    "   \n",
    "# Battery selection & scaling laws  \n",
    "# --- \n",
    "    # Battery\n",
    "    # Ref : MK-quadro\n",
    "    Mbat_ref=.329 # [kg] mass\n",
    "    #Ebat_ref=4*3.7*3.3*3600 # [J] energy\n",
    "    Ebat_ref=220*3600*.329 # [J]\n",
    "#    print(V_bat_est)\n",
    "    Ncel=V_bat_est/3.7# [-] Cell number, round (up value)\n",
    "    V_bat=3.7*Ncel # [V] Battery voltage\n",
    "    \n",
    "    Mbat=k_Mb*M_load # Battery mass\n",
    "    \n",
    "    # Hover --> autonomy\n",
    "    Ebat = Ebat_ref*Mbat/Mbat_ref*.8 # [J] Energy  of the battery (.8 coefficient because 80% use only of the total capacity)\n",
    "    C_bat = Ebat/V_bat # [A.s] Capacity  of the battery \n",
    "    I_bat = (P_el_hover*Npro)/.95/V_bat # [I] Current of the battery\n",
    "    t_hf = C_bat/I_bat/60 # [min] Hover time \n",
    "    \n",
    "   \n",
    "# ESC selection\n",
    "# ---\n",
    "\n",
    "# ESC\n",
    "# Ref : Turnigy K_Force 70HV \n",
    "    Pesc_ref=3108 # [W] Power\n",
    "    Mesc_ref=.115 # [kg] Mass\n",
    "    \n",
    "    P_esc=P_el_takeoff*V_bat_est/Umot_takeoff # [W] power electronic power (corner power or apparent power)\n",
    "    \n",
    "    Mesc = Mesc_ref*(P_esc/Pesc_ref) # [kg] Mass ESC\n",
    "    Vesc=1.84*P_esc**(0.36)# [V] ESC voltage\n",
    "         \n",
    "# Frame\n",
    "# ---\n",
    "    # Length calculation   \n",
    "    sep= 2*pi/Narm #[rad] interior angle separation between propellers\n",
    "    Lb = Dpro/(2*scipy.sin(sep/2)) #[m] length of the arm\n",
    "\n",
    "    # Static stress\n",
    "    # Sigma_max=200e6/4 # [Pa] Alu max stress (2 reduction for dynamic, 2 reduction for stress concentration)\n",
    "    Sigma_max=280e6/4 # [Pa] Composite max stress (2 reduction for dynamic, 2 reduction for stress concentration)\n",
    "    \n",
    "    # Tube diameter & thickness\n",
    "    Dfra = (Tpro_takeoff*Np_arm/Sigma_max*Lb*32/(pi*(1-(1-2*k_frame)**4)))**(1/3)  # [m] side of the section of the beam \n",
    "    Efra= k_frame*Dfra # [m] thickness of side \n",
    "          \n",
    "    # Mass\n",
    "    # Mfra=pi/4*(Dfra**2-(Dfra-2*Efra)**2)*Lb*2700 # [kg] mass of the frame (beams only) \n",
    "    Mfra=pi/4*(Dfra**2-(Dfra-2*Efra)**2)*Lb*1700 # [kg] mass of the frame (beams only)  composite\n",
    "        \n",
    "      \n",
    "# Objective and Constraints sum up\n",
    "# ---\n",
    "    Mtotal_final = (Mesc+Mpro+Mmot)*Npro+M_load+Mbat+Mfra*Narm\n",
    "    #Tmot_hover=Tfmot+Qpro \n",
    "    #k_surf_real=(pi*Dpro**2/4-Afra)/(pi*Dpro**2/4)\n",
    "\n",
    "    if MaxTime==True:\n",
    "        constraints = [(Mtotal-Mtotal_final)/Mtotal_final,(V_bat-Umot_takeoff)/V_bat, (Tmot_max-Qpro_takeoff)/Qpro_takeoff, (V_bat-Vesc)/V_bat]\n",
    "    else:\n",
    "        constraints = [(Mtotal-Mtotal_final)/Mtotal_final,(V_bat-Umot_takeoff)/V_bat, (Tmot_max-Qpro_takeoff)/Qpro_takeoff, (V_bat-Vesc)/V_bat, (t_hf-t_h)/t_h]\n",
    "    \n",
    "# Objective and contraints\n",
    "    if arg=='Obj':\n",
    "        if MaxTime==True:\n",
    "            return 1/t_hf # for time maximisation\n",
    "        else:\n",
    "            return (Mtotal+Mtotal_final)/2 # for mass optimisation \n",
    "            \n",
    "        \n",
    "    elif arg=='Prt':\n",
    "        print(\"* Specifications:\")\n",
    "        print(\"           Mass of load : %.2f kg\"% M_load)\n",
    "        print(\"           Take off acceleration : %.2f g\"%(a_to/9.81))\n",
    "        print(\"* Optimisation objective:\")\n",
    "        print(\"           Max Autonomy : %.1f min\"%t_hf)\n",
    "        print(\"* Optimisation variables:\")\n",
    "        print(\"           beta angle consisting of pitch /diameter = %.2f\"% beta)\n",
    "        print(\"           oversizing coefficient on the load mass k_M = %.2f\"% k_M)\n",
    "        print(\"           Ratio for battery mass = %.2f\"%k_Mb)\n",
    "        print(\"           oversizing coefficient on the motor torque k_mot = %.2f\"%k_mot)\n",
    "        print(\"           oversizing coefficient on the motor speed k_speed_mot = %.2f\"%k_speed_mot)\n",
    "        print(\"           undersizing coefficient on the propeller speed k_ND = %.2f\"%(k_ND))\n",
    "        print(\"           aspect ratio thickness/side k_frame = %.2f\"%k_frame)\n",
    "        print(\"           over sizing coefficient on the battery load mass = %.2f\"%k_Mb)\n",
    "        print(\"           over sizing coefficient for the battery voltage = %.2f\"%k_vb) \n",
    "        print(\"* Architecture description:\")\n",
    "        print(\"           Numbers of arms = \",Narm)        \n",
    "        print(\"           Numbers of propellers = \",Npro)        \n",
    "        print(\"\")\n",
    "        print(\"* Mass values:\")\n",
    "        print(\"           Total mass: %.3f kg\"%(Mtotal_final))\n",
    "        print(\"           Propeller mass (1x): %.3f kg\"%(Mpro))\n",
    "        print(\"           Motor mass (1x): %.3f kg\"%(Mmot))\n",
    "        print(\"           Battery mass: %.3f kg\"%(Mbat))\n",
    "        print(\"           ESC mass per propeller : %.3f kg\"%(Mesc))\n",
    "        print(\"           Arm mass (1x) : %.3f kg\"%(Mfra))\n",
    "        print(\"\")\n",
    "        print(\"* Frame size:\")\n",
    "        print(\"           Beam diameter = %.2f mm\" %(Dfra*1000))\n",
    "        print(\"           Thickness = %.2f mm\" % (Efra*1000))\n",
    "        print(\"           Length of the arm = %.2f mm\" % (Lb*1000))\n",
    "        print(\"           Interior angle / separation between propellers = %.2f °\" % (sep*180/pi))        \n",
    "        print(\"\")\n",
    "        print(\"* Propellers:\")\n",
    "        print(\"           NxD takeoff = %.0f RPMxInch\"%(n_pro_takeoff*60*Dpro/.0254))\n",
    "        print(\"           Diameter Dpro = %.2g m\"%Dpro)\n",
    "        print(\"           Pitch  = %.2g m\"%(beta*Dpro))\n",
    "#        print(\"           Ratio of useful area = %.2f %%\"%(k_surf_real*100))\n",
    "        print(\"           Power coefficient C_p: - for statics: %.4f \"%(C_p))\n",
    "        print(\"\")\n",
    "        print(\"           Thrust coefficient C_t: - for statics: %.4f \"%(C_t))\n",
    "        print(\"\")\n",
    "        print(\"           Rotational speed:      - for hover: %.0f RPM \"%(Wpro_hover*60/2/pi))\n",
    "        print(\"                                  - for vertical acceleration: %.0f RPM \"%(Wpro_takeoff*60/2/pi))\n",
    "        print(\"           Interior angle / separation between propellers: %.0f ° \"%(sep*180/pi))\n",
    "        print(\"\")\n",
    "        print(\"* Thrust force per propeller:\")\n",
    "        print(\"           Hover: %.2f N\"%(Tpro_hover))\n",
    "        print(\"           Vertical + Acceleration (2g): %.2f  N\"%(Tpro_takeoff))\n",
    "        print(\"\")\n",
    "        print(\"* Power per propeller:\")\n",
    "        print(\"           Hover power: %.2f W\"%(Ppro_hover))\n",
    "        print(\"           Vertical + Acceleration (2g): %.2f  W\"%(Ppro_takeoff))\n",
    "        print(\"\")\n",
    "        print(\"* Torque per propeller:\")\n",
    "        print(\"           Hover : %.3f N.m\"%(Tpro_hover))\n",
    "        print(\"           Vertical + Acceleration (2g): %.3f  N.m\"%(Tpro_takeoff))\n",
    "        print(\"\")\n",
    "        print(\"* Voltage:\")\n",
    "        print(\"           Motor voltage Umot: %.2f V\"%(Umot_hover))\n",
    "        print(\"           Transient voltage in vertical + Acceleration (2g): U_ver: %.2f V\"%(Umot_takeoff))\n",
    "        print(\"\")\n",
    "        print(\"* Current:\")\n",
    "        print(\"           Motor current Hover: %.2f A\"%(Imot_hover))\n",
    "        print(\"           Transient current in vertical + Acceleration (2g): I_ver: %.2f A\"%(Imot_takeoff))\n",
    "        print(\"\")\n",
    "        print(\"* Battery:\")\n",
    "        print(\"           Battery capacity = %.2f A.h\" %(C_bat/3600))\n",
    "        print(\"           Battery voltage = %.2f V\" %(V_bat))\n",
    "        print(\"           Battery voltage estimated= %.2f V\" %(V_bat_est))\n",
    "        print(\"           ESC voltage = %.2f V\" %(Vesc))\n",
    "        print(\"\")\n",
    "        print(\"* Normalized constraints (should be >0):\")\n",
    "        print(\"           Estimated mass - Total final mass / Total final mass =%.2f  \" %constraints[0])\n",
    "        print(\"           (V_bat-Umot_takeoff) / V_bat = %.3f\"%constraints[1])   \n",
    "        print(\"           (Tmot_max-Qpro_takeoff)/Qpro_takeoff = %.3f \"%constraints[2])\n",
    "        print(\"           (V_bat-Vesc)/V_bat = %.3f \"%constraints[3])\n",
    "        if MaxTime==False:\n",
    "            print(\"           (T_hf-T_h)/T_h = %.3f m\"%constraints[4])\n",
    "\n",
    "    else:\n",
    "        return constraints\n"
   ]
  },
  {
   "cell_type": "markdown",
   "metadata": {
    "slideshow": {
     "slide_type": "slide"
    }
   },
   "source": [
    "## Optimization problem\n"
   ]
  },
  {
   "cell_type": "markdown",
   "metadata": {},
   "source": [
    "We will now use the [opmization algorithms](https://docs.scipy.org/doc/scipy/reference/optimize.html) of the Scipy package to solve and optimize the configuration. We use here the SLQP algorithm without explicit expression of the gradient (Jacobian). A course on Multidisplinary Gradient optimization algorithms and gradient optimization algorithm is given [here](http://mdolab.engin.umich.edu/sites/default/files/Martins-MDO-course-notes.pdf):\n",
    "> Joaquim R. R. A. Martins (2012). A Short Course on Multidisciplinary Design Optimization. Univeristy of Michigan\n"
   ]
  },
  {
   "cell_type": "markdown",
   "metadata": {},
   "source": [
    "The first step is to deduce the initial values of optimisation variables, which minimize the contraints. For that purpose, we will perform a ranomized design based on a latin-hypercube, which will give us initial values. For these values, the contraints are calculated and only the constraint for a minimum objective is saved."
   ]
  },
  {
   "cell_type": "markdown",
   "metadata": {},
   "source": []
  },
  {
   "cell_type": "code",
   "execution_count": 108,
   "metadata": {},
   "outputs": [],
   "source": [
    "def MultiStart_SLSQP(objectif, xlimits, contraints,iteration,accuracy,samples):\n",
    "   \n",
    "#1: DoE for the initial conditions\n",
    "#------------    \n",
    "    minimum=xlimits[:,0] #lower limit contraints\n",
    "    maximum=xlimits[:,1] #upper limit contraints\n",
    "    diff=maximum-minimum \n",
    "\n",
    "    design=lhs(len(minimum), samples) # doe for X-samples distributed along 0 and 1.\n",
    "\n",
    "    doe = [vec *diff+minimum for vec in design] # doe transformed to our array of initial parameters \n",
    "\n",
    "    \n",
    "    \n",
    "# 2 : slsqp optimizing loop: find the minimum objective and its parameter vector\n",
    "#------------    \n",
    "    \n",
    "    obj=[] # vector to save objectives which constraints are positive\n",
    "\n",
    "\n",
    "    for vector in doe: #slsqp algorithm for the random parameters\n",
    "                \n",
    "        result = scipy.optimize.fmin_slsqp(func=objectif, x0=vector,bounds=xlimits,\n",
    "                                           f_ieqcons=contraints, iter=iteration,\n",
    "                                           acc=accuracy, iprint =-1)\n",
    "\n",
    "        if all (value>0 for value in contraints(result)): #only consider positive contraints!\n",
    "            \n",
    "            obj.append(objectif(result)) #saving objective with positive contraints\n",
    "\n",
    "            if min(obj)==objectif(result): #objectif is examined if it is the minimum mass from the vector obj\n",
    "                min_vector=result #choose minimum objective\n",
    "    return min_vector"
   ]
  },
  {
   "cell_type": "code",
   "execution_count": 109,
   "metadata": {
    "scrolled": true
   },
   "outputs": [],
   "source": [
    "smpl=100 #samples\n",
    "lims = np.array([\n",
    "[1, 20],# k_M, over sizing coefficient on the load mass \n",
    "[1, 10],# k_mot, over sizing coefficient on the motor torque\n",
    "[1, 10],# k_speed_mot, adaption winding coef on the motor speed\n",
    "[0.3, 0.6], # beta, pitch/diameter ratio of the propeller\n",
    "[1, 10], # k_ND, reduction of product speed.diameter on the propeller\n",
    "[0.05,.5], # k_frame, aspect ratio e/c (thickness/side) for the beam of the frame\n",
    "[.2, 15], # k_Mb, ratio battery/load mass\n",
    "[1, 5],# k_vb, oversizing coefficient for voltage evaluation\n",
    "]) # ranges of contraints\n",
    "\n",
    "iter=1500\n",
    "acc=1e-8\n",
    "\n",
    "# optimization with SLSQP algorithm\n",
    "contrainte=lambda x: SizingCode(x, 'Const') # calling functions from the SizingCode\n",
    "objectif=lambda x: SizingCode(x, 'Obj') # calling functions from the SizingCode\n",
    "\n",
    "min_vec=MultiStart_SLSQP(objectif,lims,contrainte,iter,acc, smpl)"
   ]
  },
  {
   "cell_type": "markdown",
   "metadata": {},
   "source": [
    "Accuracy and the number of iteration are two relevant factors that give precision to the final result. The smaller the accuracy rate is and the more iterations are completed, the less deviation will be in the objective. Constraints tend also to converge to 0 if the adequate relationship is expressed. A compromise must be seeked between high accuracy and time resolution .\n"
   ]
  },
  {
   "cell_type": "code",
   "execution_count": 110,
   "metadata": {},
   "outputs": [
    {
     "name": "stdout",
     "output_type": "stream",
     "text": [
      "-----------------------------------------------\n",
      "Final characteristics after optimization :\n",
      "* Specifications:\n",
      "           Mass of load : 14.00 kg\n",
      "           Take off acceleration : 1.00 g\n",
      "* Optimisation objective:\n",
      "           Max Autonomy : 50.9 min\n",
      "* Optimisation variables:\n",
      "           beta angle consisting of pitch /diameter = 0.30\n",
      "           oversizing coefficient on the load mass k_M = 9.36\n",
      "           Ratio for battery mass = 4.93\n",
      "           oversizing coefficient on the motor torque k_mot = 1.65\n",
      "           oversizing coefficient on the motor speed k_speed_mot = 1.22\n",
      "           undersizing coefficient on the propeller speed k_ND = 1.12\n",
      "           aspect ratio thickness/side k_frame = 0.05\n",
      "           over sizing coefficient on the battery load mass = 4.93\n",
      "           over sizing coefficient for the battery voltage = 2.70\n",
      "* Architecture description:\n",
      "           Numbers of arms =  8\n",
      "           Numbers of propellers =  8\n",
      "\n",
      "* Mass values:\n",
      "           Total mass: 130.993 kg\n",
      "           Propeller mass (1x): 0.389 kg\n",
      "           Motor mass (1x): 3.538 kg\n",
      "           Battery mass: 69.003 kg\n",
      "           ESC mass per propeller : 0.186 kg\n",
      "           Arm mass (1x) : 1.886 kg\n",
      "\n",
      "* Frame size:\n",
      "           Beam diameter = 63.23 mm\n",
      "           Thickness = 3.16 mm\n",
      "           Length of the arm = 1859.57 mm\n",
      "           Interior angle / separation between propellers = 45.00 °\n",
      "\n",
      "* Propellers:\n",
      "           NxD takeoff = 93439 RPMxInch\n",
      "           Diameter Dpro = 1.4 m\n",
      "           Pitch  = 0.43 m\n",
      "           Power coefficient C_p: - for statics: 0.0277 \n",
      "\n",
      "           Thrust coefficient C_t: - for statics: 0.0859 \n",
      "\n",
      "           Rotational speed:      - for hover: 1179 RPM \n",
      "                                  - for vertical acceleration: 1667 RPM \n",
      "           Interior angle / separation between propellers: 45 ° \n",
      "\n",
      "* Thrust force per propeller:\n",
      "           Hover: 160.63 N\n",
      "           Vertical + Acceleration (2g): 321.26  N\n",
      "\n",
      "* Power per propeller:\n",
      "           Hover power: 1447.76 W\n",
      "           Vertical + Acceleration (2g): 4094.88  W\n",
      "\n",
      "* Torque per propeller:\n",
      "           Hover : 160.631 N.m\n",
      "           Vertical + Acceleration (2g): 321.261  N.m\n",
      "\n",
      "* Voltage:\n",
      "           Motor voltage Umot: 66.59 V\n",
      "           Transient voltage in vertical + Acceleration (2g): U_ver: 99.29 V\n",
      "\n",
      "* Current:\n",
      "           Motor current Hover: 25.53 A\n",
      "           Transient current in vertical + Acceleration (2g): I_ver: 50.66 A\n",
      "\n",
      "* Battery:\n",
      "           Battery capacity = 122.32 A.h\n",
      "           Battery voltage = 99.29 V\n",
      "           Battery voltage estimated= 99.29 V\n",
      "           ESC voltage = 39.57 V\n",
      "\n",
      "* Normalized constraints (should be >0):\n",
      "           Estimated mass - Total final mass / Total final mass =0.00  \n",
      "           (V_bat-Umot_takeoff) / V_bat = 0.000\n",
      "           (Tmot_max-Qpro_takeoff)/Qpro_takeoff = 0.000 \n",
      "           (V_bat-Vesc)/V_bat = 0.601 \n",
      "-----------------------------------------------\n"
     ]
    }
   ],
   "source": [
    "\n",
    "print(\"-----------------------------------------------\")\n",
    "print(\"Final characteristics after optimization :\")\n",
    "\n",
    "SizingCode(min_vec, 'Prt')\n",
    "\n",
    "print(\"-----------------------------------------------\")\n"
   ]
  },
  {
   "cell_type": "code",
   "execution_count": null,
   "metadata": {},
   "outputs": [],
   "source": []
  },
  {
   "cell_type": "code",
   "execution_count": null,
   "metadata": {},
   "outputs": [],
   "source": []
  }
 ],
 "metadata": {
  "kernelspec": {
   "display_name": "Python 3",
   "language": "python",
   "name": "python3"
  },
  "language_info": {
   "codemirror_mode": {
    "name": "ipython",
    "version": 3
   },
   "file_extension": ".py",
   "mimetype": "text/x-python",
   "name": "python",
   "nbconvert_exporter": "python",
   "pygments_lexer": "ipython3",
   "version": "3.7.1"
  }
 },
 "nbformat": 4,
 "nbformat_minor": 2
}
