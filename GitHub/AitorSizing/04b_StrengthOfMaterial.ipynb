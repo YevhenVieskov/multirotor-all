{
 "cells": [
  {
   "cell_type": "markdown",
   "metadata": {},
   "source": [
    "# Frame design\n",
    "\n"
   ]
  },
  {
   "cell_type": "markdown",
   "metadata": {},
   "source": [
    "### Table of contents\n",
    "\n",
    "1. [Frame Drawing](#section2)\n",
    "2. [Parameters definition](#section4)\n",
    "3. [Sizing code](#section5)\n",
    "4. [DoE for the initial conditions](#section6)\n"
   ]
  },
  {
   "cell_type": "code",
   "execution_count": 1,
   "metadata": {},
   "outputs": [],
   "source": [
    "from math import pi, sin, cos, tan\n",
    "import scipy\n",
    "import scipy.optimize\n",
    "from math import pi\n",
    "from math import sqrt\n",
    "import math\n",
    "import timeit\n",
    "\n",
    "\n",
    "import numpy as np\n",
    "from pyDOE import *"
   ]
  },
  {
   "cell_type": "markdown",
   "metadata": {},
   "source": [
    "<a id='#section1'></a>"
   ]
  },
  {
   "cell_type": "markdown",
   "metadata": {},
   "source": [
    "<a id='#section2'></a>"
   ]
  },
  {
   "cell_type": "markdown",
   "metadata": {},
   "source": [
    "## Frame drawing"
   ]
  },
  {
   "cell_type": "markdown",
   "metadata": {},
   "source": [
    "*Example of sketch of the structure of a multi-rotor drone with 4 arms*  \n",
    "![4-arms drone structure](./img/FrameDesign.jpg)\n"
   ]
  },
  {
   "cell_type": "markdown",
   "metadata": {},
   "source": [
    "<a id='#section3'></a>"
   ]
  },
  {
   "cell_type": "markdown",
   "metadata": {},
   "source": [
    "<a id='#section4'></a>"
   ]
  },
  {
   "cell_type": "markdown",
   "metadata": {},
   "source": [
    "## Parameters definition"
   ]
  },
  {
   "cell_type": "markdown",
   "metadata": {},
   "source": [
    "### General specifications"
   ]
  },
  {
   "cell_type": "code",
   "execution_count": 2,
   "metadata": {},
   "outputs": [],
   "source": [
    "# Input Geometrical dimensions\n",
    "Larm=0.35 # [m] one arm length\n",
    "Narm=4 # [-] arms number\n",
    "VolBat=0.132*0.043*0.027 #[m^3] Volume Battery (https://www.miniplanes.fr/eflite-accu-lipo-4s-148v-3300mah-50c-prise-ec3)\n",
    "\n",
    "\n",
    "# Specifications for take off\n",
    "F_to=32 # [N] global drone force for the take off\n",
    "M_total=2 # [kg] total drone mass\n",
    "\n",
    "# Specifications for landing impact\n",
    "v_impact=1 # [m/s] impact speed\n",
    "\n",
    "#Payload specifications\n",
    "M_camera=0.113#[g] camera mass\n",
    "H_camera=0.057#[m] height camera (https://www.flir.de/products/vue-pro/)"
   ]
  },
  {
   "cell_type": "markdown",
   "metadata": {},
   "source": [
    "### Material assumptions"
   ]
  },
  {
   "cell_type": "code",
   "execution_count": 3,
   "metadata": {},
   "outputs": [],
   "source": [
    "# Material properties\n",
    "\n",
    "# for beeam and core\n",
    "Ey_bc=70.3e9 # [Pa] Young modulus\n",
    "Rho_bc=2700 # [kg/m^3] Volumic mass\n",
    "Sigma_bc=80e6 # [Pa] Elastic strength\n",
    "\n",
    "# for landing gear \n",
    "Ey_lg=2e9 # [Pa] Young modulus\n",
    "Rho_lg=1070 # [kg/m^3] Volumic mass\n",
    "Sigma_lg=39e6 # [Pa] Elastic strength\n",
    "\n"
   ]
  },
  {
   "cell_type": "markdown",
   "metadata": {},
   "source": [
    "### Design assumptions (constant)"
   ]
  },
  {
   "cell_type": "code",
   "execution_count": 4,
   "metadata": {},
   "outputs": [],
   "source": [
    "k_sec=4 # [-] security coefficient"
   ]
  },
  {
   "cell_type": "markdown",
   "metadata": {},
   "source": [
    "### Design variable (to optimize)"
   ]
  },
  {
   "cell_type": "code",
   "execution_count": 5,
   "metadata": {},
   "outputs": [],
   "source": [
    "k_TH=0.1 # [-] aspect ratio : ratio thickness (T) / side of the beam (H) < 1\n",
    "k_BH=2 # [-] aspect ratio : ratio body height (Hbody)/ height beam (H) > 1\n",
    "Teta=20/90*pi/2 # [rad] landing gear angle (0 is vertical beam) 0<Teta<90\n",
    "k_TT=1 # [-] aspect ratio : ratio landing gear thickness (Tlg)/ thickness beam (T). > 1\n",
    "k_L=0.5 # [-] aspect ratio: Length body(Lbody)/length arm (Larm)<1\n",
    "Hlg=.1 # [m] Height of landing gear (space for battery or sensors)\n",
    "\n",
    "#Vector of parameters\n",
    "parameters= scipy.array((k_TH,k_BH,Teta,k_TT,k_L,Hlg))"
   ]
  },
  {
   "cell_type": "markdown",
   "metadata": {},
   "source": [
    "<a id='#section5'></a>"
   ]
  },
  {
   "cell_type": "markdown",
   "metadata": {},
   "source": [
    "## Sizing Code"
   ]
  },
  {
   "cell_type": "markdown",
   "metadata": {},
   "source": [
    "The set of equations of a sizing code can generate typical issues such : \n",
    "- Underconstrained set of equations: the lacking equations can come from additional scenarios, estimation models or additional sizing variable. \n",
    "- overconstrained equations often due to the selection of a component on multiple critera: the adding of over-sizing coefficients and constraints in the optimization problem can generally fix this issue \n",
    "- algebraic loops often due to selection criteria requiring informations generally available after the selection \n",
    "\n",
    "**Over-constraint singularities** Example: two variables in one equation:\n",
    "\n",
    "- Equation: cross section side of a beam resisting a normal stress: $\\displaystyle H=\\sqrt[3]{\\frac{6*M_{to}}{\\sigma_{bc}*(1-(1-2*T)^4)}}$\n",
    "\n",
    "- Variables: thickness ($T$), cross section side ($H$)\n",
    "\n",
    "- Geometrical restriction:$\\displaystyle T<H$ \n",
    "\n",
    "- Strategy: $\\displaystyle T=k_{TH}*H$ where 0<$k_{TH}$<1\n",
    "\n",
    "The equation is thus transformed into an inequality and through a large number of iterations the value of both variables can be estimated.\n",
    " $\\displaystyle H>\\sqrt[3]{\\frac{6*M_{to}}{\\sigma_{bc}*(1-(1-2*k_{TH})^4)}}$\n",
    "\n",
    "**Algebraic loop** : Total mass depends on the different geometrical components.\n",
    "\n",
    "\n",
    "\n",
    "The final optimization problem depends thus of these parameters:\n",
    "\n",
    "- $k_{TH}$: aspect ratio : ratio thickness (T) / side of the beam (H) < 1\n",
    "- $k_{BH}$ aspect ratio : ratio body height (Hbody)/ height beam (H) > 1\n",
    "- $ \\theta$ landing gear angle (0 is vertical beam) 0<Teta<90\n",
    "- $k_{TT}$ ratio landing gear thickness ( body side dimensions)\n",
    "- $k_{L}$ aspect ratio: Length body(Lbody)/length arm (Larm)\n",
    "- $Hlg$: Height of landing gear (space for battery or sensors)\n",
    "\n",
    "The sizing code is defined here in a function which can give:\n",
    "\n",
    "- an evaluation of the objective: here the frame mass\n",
    "- an evaluation of the constraints: here the normal stress at the landing gear and body core, battery dimensions.\n"
   ]
  },
  {
   "cell_type": "code",
   "execution_count": 10,
   "metadata": {},
   "outputs": [],
   "source": [
    "def SizingCode(param,arg):\n",
    "\n",
    "    #Variables\n",
    "    k_TH=param[0]\n",
    "    k_BH=param[1]\n",
    "    Teta=param[2]\n",
    "    k_TT=param[3]\n",
    "    k_L=param[4]\n",
    "    Hlg=param[5]\n",
    "    \n",
    "    #### Beam Sizing - Take Off\n",
    "\n",
    "    M_to=F_to/Narm*Larm*k_sec # [N.m] Moment applied in the drone center\n",
    "    \n",
    "\n",
    "#    H=(M_to/Sigma_bc/(1-(1-2*k_TH)**4))**(1/3) # [m] Side length of the beam\n",
    "    H=(6*M_to/Sigma_bc/(1-(1-2*k_TH)**4))**(1/3) # [m] Side length of the beam\n",
    "    T=k_TH*H # [m] Thickness of the side beam\n",
    "\n",
    "\n",
    "    #### Body and Landing gear sizing - Landing impact\n",
    "    # Body stiffness calculation \n",
    "    Hbody=k_BH*H # [m] height of the body\n",
    "    Ibody=1/12*((H+2*T)*Hbody**3-H*(Hbody-2*T)**3) # [m^4] Section inertia of the body\n",
    "    Lbody=k_L*Larm #[m] length of the body\n",
    "    K1=3*Ey_bc*Ibody/(Lbody)**3 # [N/m] equivalent stiffness of the body\n",
    "\n",
    "    # Landing gear stiffness calculation \n",
    "    Llg=Hlg/cos(Teta) # [m] Landing gear length\n",
    "    Tlg=k_TT*T # [m] landing gear thickness\n",
    "    \n",
    "    Ilg=1/12*(Tlg**4) # [m^4] Section inertia of the landing gear rectangular section\n",
    "    K2=3*Ey_lg*Ilg/Llg**3/sin(Teta) # [N/m] equivalent stiffness of the landing gear\n",
    "\n",
    "    # Global stiffness\n",
    "    Kg=K1*K2/(K1+K2)*Narm # [N/m] global stiffness of all the arms\n",
    "\n",
    "    # Impact force\n",
    "    Fimpact= (v_impact*(Kg*M_total)**(1/2)+M_total*9.81)*k_sec # [N] Total impact force, we assume all the landing gear impact together\n",
    "\n",
    "    # Stress calculation in the landing gear\n",
    "\n",
    "    M_LG=Fimpact/Narm*Hlg*tan(Teta) # [N.m] Moment applied in the landing gear\n",
    "    Sigma_lg_impact=M_LG*(Tlg/2)/Ilg # [Pa] Max stress in the landing gear\n",
    "\n",
    "    # Stress calculation in the body\n",
    "\n",
    "    M_Body=(Fimpact/Narm*Lbody+M_LG) # [N.m] Moment applied in the body\n",
    "    Sigma_body_impact=M_Body*(Hbody/2)/Ibody # [Pa] Max stress in the landing gear\n",
    "\n",
    "    # Mass calculation\n",
    "    Mbeams=Narm*Larm*(H**2-(H-2*T)**2)*Rho_bc #[kg] Total beams' mass\n",
    "    MLG=Narm*Llg*Tlg**2*Rho_lg #[kg] Total landing gears' mass\n",
    "    Mbody=Narm*(Lbody)*(Hbody*(H+2*T)-(Hbody-2*T)*H)*Rho_bc #[kg] Total body's mass\n",
    "\n",
    "    Mframe=Mbeams+MLG+Mbody #[kg] total frame mass\n",
    "    Vbody=(2*Lbody)**2*Hbody\n",
    "    # Contraintes : stress \n",
    "\n",
    "    \n",
    "    constraints = [(Sigma_bc-Sigma_body_impact)/Sigma_body_impact,(Sigma_lg-Sigma_lg_impact)/Sigma_lg_impact,(Vbody-VolBat)/VolBat,(Hlg-Fimpact/(Narm*Kg)-H_camera)/(Hlg)]\n",
    "    # Objectif : masse totale \n",
    "    if arg=='Obj':\n",
    "        return Mframe\n",
    "    elif arg=='Prt':\n",
    "        print(\"* Optimisation variables:\")\n",
    "        print(\"           Aspect ratio for the beam's thickness (T/H), k_TH = %.2f\"% k_TH)\n",
    "        print(\"           Aspect ratio for the body's height (Hbody/H) k_BH = %.2f\"% k_BH)\n",
    "        print(\"           Angle of the landing gear w.r.t. the beam Teta= %.2f º\"% (Teta/pi*180))\n",
    "        print(\"           Aspect ratio for the Landing gear's thickness (Tlg/T) k_TT=  %.2f\"% k_TT)\n",
    "        print(\"           Aspect ratio: Length body(Lbody)/length arm (Larm) k_L=  %.2f\"% k_L)\n",
    "        print(\"           Landing gear height, Hlg = %.5f m\" % Hlg)\n",
    "        print(\"* Components characteristics:\")\n",
    "        print(\"           Only for Take-Off:\" )\n",
    "        print(\"               Arm length, Larm = %.5f m\" % Larm)        \n",
    "        print(\"               Side length cross section of the beam, H = %.5f m\" % H)\n",
    "        print(\"               Thickness of the beam, T= %.5f m\" % T)\n",
    "        print(\"           Only for Landing:\" )\n",
    "        print(\"               Body length, Lbody = %.5f m\" % Lbody)\n",
    "        print(\"               Body cross section height, Hbody = %.5f m\" % Hbody)\n",
    "        print(\"               Body cross section width, H+2T = %.5f m\" % (H+2*T))\n",
    "        print(\"               Landing gear cross section width, Tlg = %.5f m\" % Tlg)\n",
    "        print(\"               Impact speed, vimpact = %.5f m/s\" % v_impact)\n",
    "        print(\"               K1 = %.2f N/m\" % K1)\n",
    "        print(\"               K2 = %.2f N/m\" % K2)\n",
    "#        print(\"               Ibody = %.5e m^4\" % Ibody)\n",
    "#        print(\"               Ilg = %.5e m^4\" % Ilg)         \n",
    "#        print(\"               M_LG = %.5f N/m\" % M_LG)\n",
    "#        print(\"               M_Body = %.2f N/m\" % M_Body)        \n",
    "        print(\"               Total stiffness, K= %.5f N/m\" % Kg)\n",
    "        print(\"               Security coefficient= %.5f\" %k_sec)\n",
    "        print(\"               Impact force, Fimpact = %.5f N\" % Fimpact)       \n",
    "        print(\"               Max stress in the landing gear, Sigma_lg_impact = %.5f N\" % Sigma_lg_impact)       \n",
    "        print(\"               Max stress in the body, Sigma_body_impact = %.5f N/m^2\" % Sigma_body_impact)    \n",
    "        print(\"               Total beams mass = %.5f kg\"%Mbeams)\n",
    "        print(\"               Total lg mass = %.5f kg\"%MLG)\n",
    "        print(\"               Total body mass = %.5f kg\"%Mbody)\n",
    "        \n",
    "        print(\"* Normalized Constraints (should be >0):\")\n",
    "        print(\"           Stress margin at the Body: (Sigma_bc-Sigma_body_impact)/Sigma_body_impact= %.3e\" % constraints[0])\n",
    "        print(\"           Stress margin at the landing gears: (Sigma_lg-Sigma_lg_impact)/Sigma_lg_impact= %.3e \" %constraints[1])\n",
    "        print(\"           (Vbody-VolBat)/VolBat= %.3e \" %constraints[2])\n",
    "        print(\"           (Hlg-Fimpact/(Narm*Kg)-H_camera)/(Hlg)= %.3e \" %constraints[3])\n",
    "    else:\n",
    "        return constraints"
   ]
  },
  {
   "cell_type": "markdown",
   "metadata": {},
   "source": [
    "<a id='#section6'></a>"
   ]
  },
  {
   "cell_type": "markdown",
   "metadata": {},
   "source": [
    "## DoE for the initial values"
   ]
  },
  {
   "cell_type": "markdown",
   "metadata": {},
   "source": [
    "The choice of an initial set of values can determine the final result. Through this code, we randomize a design of experiments for the initial values vector and we save only the one, which gives us in the end positive contraints. That means that the inequalities are satisfied."
   ]
  },
  {
   "cell_type": "code",
   "execution_count": 11,
   "metadata": {},
   "outputs": [],
   "source": [
    "def MultiStart_SLSQP(objectif, xlimits, contraints,iteration,accuracy,samples):\n",
    "   \n",
    "#1: DoE for the initial conditions\n",
    "#------------    \n",
    "    minimum=xlimits[:,0] #lower limit contraints\n",
    "    maximum=xlimits[:,1] #upper limit contraints\n",
    "    diff=maximum-minimum \n",
    "\n",
    "    design=lhs(len(minimum), samples) # doe for X-samples distributed along 0 and 1.\n",
    "\n",
    "    doe = [vec *diff+minimum for vec in design] # doe transformed to our array of initial parameters \n",
    "\n",
    "    \n",
    "    \n",
    "# 2 : slsqp optimizing loop: find the minimum objective and its parameter vector\n",
    "#------------    \n",
    "    \n",
    "    obj=[] # vector to save objectives which constraints are positive\n",
    "\n",
    "\n",
    "    for vector in doe: #slsqp algorithm for the random parameters\n",
    "                \n",
    "        result = scipy.optimize.fmin_slsqp(func=objectif, x0=vector,bounds=xlimits,\n",
    "                                           f_ieqcons=contraints, iter=iteration,\n",
    "                                           acc=accuracy, iprint =-1)\n",
    "\n",
    "        if all (value>0 for value in contraints(result)): #only consider positive contraints!\n",
    "            \n",
    "            obj.append(objectif(result)) #saving objective with positive contraints\n",
    "\n",
    "            if min(obj)==objectif(result): #objectif is examined if it is the minimum mass from the vector obj\n",
    "                min_obj=result #choose minimum objective\n",
    "    return min_obj"
   ]
  },
  {
   "cell_type": "markdown",
   "metadata": {},
   "source": [
    "In the next code, we implement the function. And very important is that we set truthful limits where our initial values be found."
   ]
  },
  {
   "cell_type": "code",
   "execution_count": 12,
   "metadata": {},
   "outputs": [
    {
     "name": "stderr",
     "output_type": "stream",
     "text": [
      "C:\\Users\\Aitor\\Anaconda3\\lib\\site-packages\\ipykernel_launcher.py:26: RuntimeWarning: divide by zero encountered in double_scalars\n",
      "C:\\Users\\Aitor\\Anaconda3\\lib\\site-packages\\ipykernel_launcher.py:36: RuntimeWarning: invalid value encountered in double_scalars\n"
     ]
    }
   ],
   "source": [
    "import numpy as np\n",
    "\n",
    "smpl=50 #samples\n",
    "lims = np.array([\n",
    "[0.15,0.4],# k_TH [-] aspect ratio : ratio thickness (T) / side of the beam (H) < 1 \n",
    "[1,4],# k_BH [-] aspect ratio : ratio body height (Hbody)/ height beam (H) > 1\n",
    "[30/90*pi/2,pi/2],# Teta [rad] landing gear angle (0 is vertical beam) 0<Teta<90\n",
    "[1,100], #k_TT aspect ratio : ratio landing gear thickness (Tlg)/ height beam (T). > 1\n",
    "[0,1], # k_L aspect ratio: Length body(Lbody)/length arm (Larm)<1\n",
    "[0.01,1.165], # H_lG [m] High of landing gear (space for battery or sensors)\n",
    "]) # ranges of contraints\n",
    "    \n",
    "iter=1500\n",
    "acc=1e-8\n",
    "\n",
    "# optimization with SLSQP algorithm\n",
    "contrainte=lambda x: SizingCode(x, 'Const') # calling functions from the SizingCode\n",
    "objectif=lambda x: SizingCode(x, 'Obj') # calling functions from the SizingCode\n",
    "\n",
    "min_vec=MultiStart_SLSQP(objectif,lims,contrainte,iter,acc, smpl)\n"
   ]
  },
  {
   "cell_type": "code",
   "execution_count": 13,
   "metadata": {},
   "outputs": [
    {
     "name": "stdout",
     "output_type": "stream",
     "text": [
      "-----------------------------------------------\n",
      "Final characteristics after optimization :\n",
      "* Optimisation variables:\n",
      "           Aspect ratio for the beam's thickness (T/H), k_TH = 0.15\n",
      "           Aspect ratio for the body's height (Hbody/H) k_BH = 3.80\n",
      "           Angle of the landing gear w.r.t. the beam Teta= 30.00 º\n",
      "           Aspect ratio for the Landing gear's thickness (Tlg/T) k_TT=  14.13\n",
      "           Aspect ratio: Length body(Lbody)/length arm (Larm) k_L=  0.09\n",
      "           Landing gear height, Hlg = 0.08779 m\n",
      "* Components characteristics:\n",
      "           Only for Take-Off:\n",
      "               Arm length, Larm = 0.35000 m\n",
      "               Side length cross section of the beam, H = 0.01034 m\n",
      "               Thickness of the beam, T= 0.00155 m\n",
      "           Only for Landing:\n",
      "               Body length, Lbody = 0.03121 m\n",
      "               Body cross section height, Hbody = 0.03933 m\n",
      "               Body cross section width, H+2T = 0.01344 m\n",
      "               Landing gear cross section width, Tlg = 0.02192 m\n",
      "               Impact speed, vimpact = 1.00000 m/s\n",
      "               K1 = 188449571.10 N/m\n",
      "               K2 = 221417.78 N/m\n",
      "               Total stiffness, K= 884631.73356 N/m\n",
      "               Security coefficient= 4.00000\n",
      "               Impact force, Fimpact = 5399.02654 N\n",
      "               Max stress in the landing gear, Sigma_lg_impact = 39000000.00000 N\n",
      "               Max stress in the body, Sigma_body_impact = 80000000.00000 N/m^2\n",
      "               Total beams mass = 0.20610 kg\n",
      "               Total lg mass = 0.20838 kg\n",
      "               Total body mass = 0.05193 kg\n",
      "* Normalized Constraints (should be >0):\n",
      "           Stress margin at the Body: (Sigma_bc-Sigma_body_impact)/Sigma_body_impact= 6.892e-15\n",
      "           Stress margin at the landing gears: (Sigma_lg-Sigma_lg_impact)/Sigma_lg_impact= 4.203e-15 \n",
      "           (Vbody-VolBat)/VolBat= 1.592e-15 \n",
      "           (Hlg-Fimpact/(Narm*Kg)-H_camera)/(Hlg)= 3.334e-01 \n",
      "-----------------------------------------------\n"
     ]
    }
   ],
   "source": [
    "print(\"-----------------------------------------------\")\n",
    "print(\"Final characteristics after optimization :\")\n",
    "\n",
    "SizingCode(min_vec, 'Prt')\n",
    "\n",
    "print(\"-----------------------------------------------\")"
   ]
  },
  {
   "cell_type": "code",
   "execution_count": null,
   "metadata": {},
   "outputs": [],
   "source": []
  },
  {
   "cell_type": "code",
   "execution_count": null,
   "metadata": {},
   "outputs": [],
   "source": []
  }
 ],
 "metadata": {
  "kernelspec": {
   "display_name": "Python 3",
   "language": "python",
   "name": "python3"
  },
  "language_info": {
   "codemirror_mode": {
    "name": "ipython",
    "version": 3
   },
   "file_extension": ".py",
   "mimetype": "text/x-python",
   "name": "python",
   "nbconvert_exporter": "python",
   "pygments_lexer": "ipython3",
   "version": "3.7.1"
  }
 },
 "nbformat": 4,
 "nbformat_minor": 2
}
